{
 "cells": [
  {
   "cell_type": "markdown",
   "id": "c85f0ee7",
   "metadata": {},
   "source": [
    "#### Importing Libraries"
   ]
  },
  {
   "cell_type": "code",
   "execution_count": 1,
   "id": "0838c981",
   "metadata": {},
   "outputs": [],
   "source": [
    "import numpy as np\n",
    "import pandas as pd\n",
    "import matplotlib.pyplot as plt\n",
    "import seaborn as sns\n",
    "import warnings\n",
    "warnings.filterwarnings('ignore')"
   ]
  },
  {
   "cell_type": "markdown",
   "id": "cc71cdc5",
   "metadata": {},
   "source": [
    "### Loading dataset into dataframe"
   ]
  },
  {
   "cell_type": "code",
   "execution_count": 3,
   "id": "f1a44b87",
   "metadata": {},
   "outputs": [
    {
     "data": {
      "text/html": [
       "<div>\n",
       "<style scoped>\n",
       "    .dataframe tbody tr th:only-of-type {\n",
       "        vertical-align: middle;\n",
       "    }\n",
       "\n",
       "    .dataframe tbody tr th {\n",
       "        vertical-align: top;\n",
       "    }\n",
       "\n",
       "    .dataframe thead th {\n",
       "        text-align: right;\n",
       "    }\n",
       "</style>\n",
       "<table border=\"1\" class=\"dataframe\">\n",
       "  <thead>\n",
       "    <tr style=\"text-align: right;\">\n",
       "      <th></th>\n",
       "      <th>Id</th>\n",
       "      <th>SepalLengthCm</th>\n",
       "      <th>SepalWidthCm</th>\n",
       "      <th>PetalLengthCm</th>\n",
       "      <th>PetalWidthCm</th>\n",
       "      <th>Species</th>\n",
       "    </tr>\n",
       "  </thead>\n",
       "  <tbody>\n",
       "    <tr>\n",
       "      <th>0</th>\n",
       "      <td>1</td>\n",
       "      <td>5.1</td>\n",
       "      <td>3.5</td>\n",
       "      <td>1.4</td>\n",
       "      <td>0.2</td>\n",
       "      <td>Iris-setosa</td>\n",
       "    </tr>\n",
       "    <tr>\n",
       "      <th>1</th>\n",
       "      <td>2</td>\n",
       "      <td>4.9</td>\n",
       "      <td>3.0</td>\n",
       "      <td>1.4</td>\n",
       "      <td>0.2</td>\n",
       "      <td>Iris-setosa</td>\n",
       "    </tr>\n",
       "    <tr>\n",
       "      <th>2</th>\n",
       "      <td>3</td>\n",
       "      <td>4.7</td>\n",
       "      <td>3.2</td>\n",
       "      <td>1.3</td>\n",
       "      <td>0.2</td>\n",
       "      <td>Iris-setosa</td>\n",
       "    </tr>\n",
       "    <tr>\n",
       "      <th>3</th>\n",
       "      <td>4</td>\n",
       "      <td>4.6</td>\n",
       "      <td>3.1</td>\n",
       "      <td>1.5</td>\n",
       "      <td>0.2</td>\n",
       "      <td>Iris-setosa</td>\n",
       "    </tr>\n",
       "    <tr>\n",
       "      <th>4</th>\n",
       "      <td>5</td>\n",
       "      <td>5.0</td>\n",
       "      <td>3.6</td>\n",
       "      <td>1.4</td>\n",
       "      <td>0.2</td>\n",
       "      <td>Iris-setosa</td>\n",
       "    </tr>\n",
       "  </tbody>\n",
       "</table>\n",
       "</div>"
      ],
      "text/plain": [
       "   Id  SepalLengthCm  SepalWidthCm  PetalLengthCm  PetalWidthCm      Species\n",
       "0   1            5.1           3.5            1.4           0.2  Iris-setosa\n",
       "1   2            4.9           3.0            1.4           0.2  Iris-setosa\n",
       "2   3            4.7           3.2            1.3           0.2  Iris-setosa\n",
       "3   4            4.6           3.1            1.5           0.2  Iris-setosa\n",
       "4   5            5.0           3.6            1.4           0.2  Iris-setosa"
      ]
     },
     "execution_count": 3,
     "metadata": {},
     "output_type": "execute_result"
    }
   ],
   "source": [
    "df = pd.read_csv('C:\\\\Users\\\\HP\\\\Downloads\\\\kaggle\\\\Iris.csv')\n",
    "df.head()"
   ]
  },
  {
   "cell_type": "code",
   "execution_count": 4,
   "id": "e5b3a53a",
   "metadata": {},
   "outputs": [],
   "source": [
    "# dropping id columns since its of no importance\n",
    "df.drop(['Id'], axis=1, inplace=True)"
   ]
  },
  {
   "cell_type": "markdown",
   "id": "5fc61d99",
   "metadata": {},
   "source": [
    "### Information about Dataset"
   ]
  },
  {
   "cell_type": "code",
   "execution_count": 9,
   "id": "d3e04baa",
   "metadata": {},
   "outputs": [
    {
     "data": {
      "text/html": [
       "<div>\n",
       "<style scoped>\n",
       "    .dataframe tbody tr th:only-of-type {\n",
       "        vertical-align: middle;\n",
       "    }\n",
       "\n",
       "    .dataframe tbody tr th {\n",
       "        vertical-align: top;\n",
       "    }\n",
       "\n",
       "    .dataframe thead th {\n",
       "        text-align: right;\n",
       "    }\n",
       "</style>\n",
       "<table border=\"1\" class=\"dataframe\">\n",
       "  <thead>\n",
       "    <tr style=\"text-align: right;\">\n",
       "      <th></th>\n",
       "      <th>SepalLengthCm</th>\n",
       "      <th>SepalWidthCm</th>\n",
       "      <th>PetalLengthCm</th>\n",
       "      <th>PetalWidthCm</th>\n",
       "    </tr>\n",
       "  </thead>\n",
       "  <tbody>\n",
       "    <tr>\n",
       "      <th>count</th>\n",
       "      <td>150.000000</td>\n",
       "      <td>150.000000</td>\n",
       "      <td>150.000000</td>\n",
       "      <td>150.000000</td>\n",
       "    </tr>\n",
       "    <tr>\n",
       "      <th>mean</th>\n",
       "      <td>5.843333</td>\n",
       "      <td>3.054000</td>\n",
       "      <td>3.758667</td>\n",
       "      <td>1.198667</td>\n",
       "    </tr>\n",
       "    <tr>\n",
       "      <th>std</th>\n",
       "      <td>0.828066</td>\n",
       "      <td>0.433594</td>\n",
       "      <td>1.764420</td>\n",
       "      <td>0.763161</td>\n",
       "    </tr>\n",
       "    <tr>\n",
       "      <th>min</th>\n",
       "      <td>4.300000</td>\n",
       "      <td>2.000000</td>\n",
       "      <td>1.000000</td>\n",
       "      <td>0.100000</td>\n",
       "    </tr>\n",
       "    <tr>\n",
       "      <th>25%</th>\n",
       "      <td>5.100000</td>\n",
       "      <td>2.800000</td>\n",
       "      <td>1.600000</td>\n",
       "      <td>0.300000</td>\n",
       "    </tr>\n",
       "    <tr>\n",
       "      <th>50%</th>\n",
       "      <td>5.800000</td>\n",
       "      <td>3.000000</td>\n",
       "      <td>4.350000</td>\n",
       "      <td>1.300000</td>\n",
       "    </tr>\n",
       "    <tr>\n",
       "      <th>75%</th>\n",
       "      <td>6.400000</td>\n",
       "      <td>3.300000</td>\n",
       "      <td>5.100000</td>\n",
       "      <td>1.800000</td>\n",
       "    </tr>\n",
       "    <tr>\n",
       "      <th>max</th>\n",
       "      <td>7.900000</td>\n",
       "      <td>4.400000</td>\n",
       "      <td>6.900000</td>\n",
       "      <td>2.500000</td>\n",
       "    </tr>\n",
       "  </tbody>\n",
       "</table>\n",
       "</div>"
      ],
      "text/plain": [
       "       SepalLengthCm  SepalWidthCm  PetalLengthCm  PetalWidthCm\n",
       "count     150.000000    150.000000     150.000000    150.000000\n",
       "mean        5.843333      3.054000       3.758667      1.198667\n",
       "std         0.828066      0.433594       1.764420      0.763161\n",
       "min         4.300000      2.000000       1.000000      0.100000\n",
       "25%         5.100000      2.800000       1.600000      0.300000\n",
       "50%         5.800000      3.000000       4.350000      1.300000\n",
       "75%         6.400000      3.300000       5.100000      1.800000\n",
       "max         7.900000      4.400000       6.900000      2.500000"
      ]
     },
     "execution_count": 9,
     "metadata": {},
     "output_type": "execute_result"
    }
   ],
   "source": [
    "df.describe()"
   ]
  },
  {
   "cell_type": "code",
   "execution_count": 10,
   "id": "cb7fc841",
   "metadata": {},
   "outputs": [
    {
     "name": "stdout",
     "output_type": "stream",
     "text": [
      "<class 'pandas.core.frame.DataFrame'>\n",
      "RangeIndex: 150 entries, 0 to 149\n",
      "Data columns (total 5 columns):\n",
      " #   Column         Non-Null Count  Dtype  \n",
      "---  ------         --------------  -----  \n",
      " 0   SepalLengthCm  150 non-null    float64\n",
      " 1   SepalWidthCm   150 non-null    float64\n",
      " 2   PetalLengthCm  150 non-null    float64\n",
      " 3   PetalWidthCm   150 non-null    float64\n",
      " 4   Species        150 non-null    object \n",
      "dtypes: float64(4), object(1)\n",
      "memory usage: 6.0+ KB\n"
     ]
    }
   ],
   "source": [
    "df.info()"
   ]
  },
  {
   "cell_type": "code",
   "execution_count": 11,
   "id": "94153a67",
   "metadata": {},
   "outputs": [
    {
     "data": {
      "text/plain": [
       "(150, 5)"
      ]
     },
     "execution_count": 11,
     "metadata": {},
     "output_type": "execute_result"
    }
   ],
   "source": [
    "df.shape"
   ]
  },
  {
   "cell_type": "code",
   "execution_count": 12,
   "id": "8b1ab0a2",
   "metadata": {},
   "outputs": [
    {
     "data": {
      "text/plain": [
       "SepalLengthCm    0\n",
       "SepalWidthCm     0\n",
       "PetalLengthCm    0\n",
       "PetalWidthCm     0\n",
       "Species          0\n",
       "dtype: int64"
      ]
     },
     "execution_count": 12,
     "metadata": {},
     "output_type": "execute_result"
    }
   ],
   "source": [
    "df.isnull().sum()"
   ]
  },
  {
   "cell_type": "code",
   "execution_count": 15,
   "id": "7838d314",
   "metadata": {},
   "outputs": [
    {
     "data": {
      "text/html": [
       "<div>\n",
       "<style scoped>\n",
       "    .dataframe tbody tr th:only-of-type {\n",
       "        vertical-align: middle;\n",
       "    }\n",
       "\n",
       "    .dataframe tbody tr th {\n",
       "        vertical-align: top;\n",
       "    }\n",
       "\n",
       "    .dataframe thead th {\n",
       "        text-align: right;\n",
       "    }\n",
       "</style>\n",
       "<table border=\"1\" class=\"dataframe\">\n",
       "  <thead>\n",
       "    <tr style=\"text-align: right;\">\n",
       "      <th></th>\n",
       "      <th>SepalLengthCm</th>\n",
       "      <th>SepalWidthCm</th>\n",
       "      <th>PetalLengthCm</th>\n",
       "      <th>PetalWidthCm</th>\n",
       "      <th>Species</th>\n",
       "    </tr>\n",
       "  </thead>\n",
       "  <tbody>\n",
       "    <tr>\n",
       "      <th>34</th>\n",
       "      <td>4.9</td>\n",
       "      <td>3.1</td>\n",
       "      <td>1.5</td>\n",
       "      <td>0.1</td>\n",
       "      <td>Iris-setosa</td>\n",
       "    </tr>\n",
       "    <tr>\n",
       "      <th>37</th>\n",
       "      <td>4.9</td>\n",
       "      <td>3.1</td>\n",
       "      <td>1.5</td>\n",
       "      <td>0.1</td>\n",
       "      <td>Iris-setosa</td>\n",
       "    </tr>\n",
       "    <tr>\n",
       "      <th>142</th>\n",
       "      <td>5.8</td>\n",
       "      <td>2.7</td>\n",
       "      <td>5.1</td>\n",
       "      <td>1.9</td>\n",
       "      <td>Iris-virginica</td>\n",
       "    </tr>\n",
       "  </tbody>\n",
       "</table>\n",
       "</div>"
      ],
      "text/plain": [
       "     SepalLengthCm  SepalWidthCm  PetalLengthCm  PetalWidthCm         Species\n",
       "34             4.9           3.1            1.5           0.1     Iris-setosa\n",
       "37             4.9           3.1            1.5           0.1     Iris-setosa\n",
       "142            5.8           2.7            5.1           1.9  Iris-virginica"
      ]
     },
     "execution_count": 15,
     "metadata": {},
     "output_type": "execute_result"
    }
   ],
   "source": [
    "df[df.duplicated()]"
   ]
  },
  {
   "cell_type": "code",
   "execution_count": 17,
   "id": "72c43064",
   "metadata": {},
   "outputs": [
    {
     "data": {
      "text/plain": [
       "(147, 5)"
      ]
     },
     "execution_count": 17,
     "metadata": {},
     "output_type": "execute_result"
    }
   ],
   "source": [
    "#Eliminating duplicate rows\n",
    "df = df[~(df.duplicated())]\n",
    "df.shape"
   ]
  },
  {
   "cell_type": "code",
   "execution_count": 18,
   "id": "ecd43b05",
   "metadata": {},
   "outputs": [
    {
     "data": {
      "text/plain": [
       "SepalLengthCm    float64\n",
       "SepalWidthCm     float64\n",
       "PetalLengthCm    float64\n",
       "PetalWidthCm     float64\n",
       "Species           object\n",
       "dtype: object"
      ]
     },
     "execution_count": 18,
     "metadata": {},
     "output_type": "execute_result"
    }
   ],
   "source": [
    "df.dtypes"
   ]
  },
  {
   "cell_type": "markdown",
   "id": "5059ca4b",
   "metadata": {},
   "source": [
    "### Exploratory Data Analysis"
   ]
  },
  {
   "cell_type": "code",
   "execution_count": 23,
   "id": "46a039c8",
   "metadata": {},
   "outputs": [
    {
     "name": "stdout",
     "output_type": "stream",
     "text": [
      "Skewness of SepalLengthCm 0.29255956516307163\n",
      "Kurtosis of SepalLengthCm -0.5569564812003911\n",
      "Boxplot of SepalLengthCm\n"
     ]
    },
    {
     "data": {
      "image/png": "[encoded data removed]",
      "text/plain": [
       "<Figure size 432x288 with 1 Axes>"
      ]
     },
     "metadata": {
      "needs_background": "light"
     },
     "output_type": "display_data"
    },
    {
     "name": "stdout",
     "output_type": "stream",
     "text": [
      "Distribution of SepalLengthCm\n"
     ]
    },
    {
     "data": {
      "image/png": "[encoded data removed]",
      "text/plain": [
       "<Figure size 432x288 with 1 Axes>"
      ]
     },
     "metadata": {
      "needs_background": "light"
     },
     "output_type": "display_data"
    },
    {
     "name": "stdout",
     "output_type": "stream",
     "text": [
      "Skewness of SepalWidthCm 0.3243506195620299\n",
      "Kurtosis of SepalWidthCm 0.24683840744328434\n",
      "Boxplot of SepalWidthCm\n"
     ]
    },
    {
     "data": {
      "image/png": "[encoded data removed]",
      "text/plain": [
       "<Figure size 432x288 with 1 Axes>"
      ]
     },
     "metadata": {
      "needs_background": "light"
     },
     "output_type": "display_data"
    },
    {
     "name": "stdout",
     "output_type": "stream",
     "text": [
      "Distribution of SepalWidthCm\n"
     ]
    },
    {
     "data": {
      "image/png": "[encoded data removed]",
      "text/plain": [
       "<Figure size 432x288 with 1 Axes>"
      ]
     },
     "metadata": {
      "needs_background": "light"
     },
     "output_type": "display_data"
    },
    {
     "name": "stdout",
     "output_type": "stream",
     "text": [
      "Skewness of PetalLengthCm -0.2937634574565383\n",
      "Kurtosis of PetalLengthCm -1.3744621135069286\n",
      "Boxplot of PetalLengthCm\n"
     ]
    },
    {
     "data": {
      "image/png": "[encoded data removed]",
      "text/plain": [
       "<Figure size 432x288 with 1 Axes>"
      ]
     },
     "metadata": {
      "needs_background": "light"
     },
     "output_type": "display_data"
    },
    {
     "name": "stdout",
     "output_type": "stream",
     "text": [
      "Distribution of PetalLengthCm\n"
     ]
    },
    {
     "data": {
      "image/png": "[encoded data removed]",
      "text/plain": [
       "<Figure size 432x288 with 1 Axes>"
      ]
     },
     "metadata": {
      "needs_background": "light"
     },
     "output_type": "display_data"
    },
    {
     "name": "stdout",
     "output_type": "stream",
     "text": [
      "Skewness of PetalWidthCm -0.11347861374619836\n",
      "Kurtosis of PetalWidthCm -1.3177600111364542\n",
      "Boxplot of PetalWidthCm\n"
     ]
    },
    {
     "data": {
      "image/png": "[encoded data removed]",
      "text/plain": [
       "<Figure size 432x288 with 1 Axes>"
      ]
     },
     "metadata": {
      "needs_background": "light"
     },
     "output_type": "display_data"
    },
    {
     "name": "stdout",
     "output_type": "stream",
     "text": [
      "Distribution of PetalWidthCm\n"
     ]
    },
    {
     "data": {
      "image/png": "[encoded data removed]",
      "text/plain": [
       "<Figure size 432x288 with 1 Axes>"
      ]
     },
     "metadata": {
      "needs_background": "light"
     },
     "output_type": "display_data"
    }
   ],
   "source": [
    "for col in df.columns:\n",
    "    if df[col].dtypes == 'float64':\n",
    "        print('Skewness of {}'.format(col), df[col].skew())\n",
    "        print('Kurtosis of {}'.format(col), df[col].kurt())\n",
    "        print('Boxplot of {}'.format(col))\n",
    "        sns.boxplot(x=col, data=df)\n",
    "        plt.show()\n",
    "        print('Distribution of {}'.format(col))\n",
    "        sns.distplot(x=df[col])\n",
    "        plt.show()"
   ]
  },
  {
   "cell_type": "code",
   "execution_count": 24,
   "id": "1891481a",
   "metadata": {},
   "outputs": [
    {
     "data": {
      "text/plain": [
       "<AxesSubplot:xlabel='Species', ylabel='SepalLengthCm'>"
      ]
     },
     "execution_count": 24,
     "metadata": {},
     "output_type": "execute_result"
    },
    {
     "data": {
      "image/png": "[encoded data removed]",
      "text/plain": [
       "<Figure size 432x288 with 1 Axes>"
      ]
     },
     "metadata": {
      "needs_background": "light"
     },
     "output_type": "display_data"
    }
   ],
   "source": [
    "sns.barplot(x='Species', y='SepalLengthCm', data=df)"
   ]
  },
  {
   "cell_type": "markdown",
   "id": "f672f16a",
   "metadata": {},
   "source": [
    "#### Observation: virginica species has more sepallength that other species\n",
    "#### Sepallength : virginica > versicolor > setosa"
   ]
  },
  {
   "cell_type": "code",
   "execution_count": 25,
   "id": "8def1abe",
   "metadata": {},
   "outputs": [
    {
     "data": {
      "text/plain": [
       "<AxesSubplot:xlabel='Species', ylabel='SepalWidthCm'>"
      ]
     },
     "execution_count": 25,
     "metadata": {},
     "output_type": "execute_result"
    },
    {
     "data": {
      "image/png": "[encoded data removed]",
      "text/plain": [
       "<Figure size 432x288 with 1 Axes>"
      ]
     },
     "metadata": {
      "needs_background": "light"
     },
     "output_type": "display_data"
    }
   ],
   "source": [
    "sns.barplot(x='Species', y='SepalWidthCm', data=df)"
   ]
  },
  {
   "cell_type": "markdown",
   "id": "ca543e4c",
   "metadata": {},
   "source": [
    "#### Observation: setosa species has more sepalwidth that other species\n",
    "#### SepalWidth : versicolor < virginica < setosa"
   ]
  },
  {
   "cell_type": "code",
   "execution_count": 29,
   "id": "cfb4a35c",
   "metadata": {},
   "outputs": [
    {
     "data": {
      "text/plain": [
       "<AxesSubplot:xlabel='SepalLengthCm', ylabel='SepalWidthCm'>"
      ]
     },
     "execution_count": 29,
     "metadata": {},
     "output_type": "execute_result"
    },
    {
     "data": {
      "image/png": "[encoded data removed]",
      "text/plain": [
       "<Figure size 432x288 with 1 Axes>"
      ]
     },
     "metadata": {
      "needs_background": "light"
     },
     "output_type": "display_data"
    }
   ],
   "source": [
    "sns.scatterplot(x='SepalLengthCm', y='SepalWidthCm', data=df, hue='Species')"
   ]
  },
  {
   "cell_type": "code",
   "execution_count": 31,
   "id": "b85a1171",
   "metadata": {},
   "outputs": [
    {
     "data": {
      "text/plain": [
       "<AxesSubplot:xlabel='Species', ylabel='PetalLengthCm'>"
      ]
     },
     "execution_count": 31,
     "metadata": {},
     "output_type": "execute_result"
    },
    {
     "data": {
      "image/png": "[encoded data removed]",
      "text/plain": [
       "<Figure size 432x288 with 1 Axes>"
      ]
     },
     "metadata": {
      "needs_background": "light"
     },
     "output_type": "display_data"
    }
   ],
   "source": [
    "sns.barplot(x='Species', y='PetalLengthCm', data=df)"
   ]
  },
  {
   "cell_type": "code",
   "execution_count": 32,
   "id": "fde78ef1",
   "metadata": {},
   "outputs": [
    {
     "data": {
      "text/plain": [
       "<AxesSubplot:xlabel='Species', ylabel='PetalWidthCm'>"
      ]
     },
     "execution_count": 32,
     "metadata": {},
     "output_type": "execute_result"
    },
    {
     "data": {
      "image/png": "[encoded data removed]",
      "text/plain": [
       "<Figure size 432x288 with 1 Axes>"
      ]
     },
     "metadata": {
      "needs_background": "light"
     },
     "output_type": "display_data"
    }
   ],
   "source": [
    "sns.barplot(x='Species', y='PetalWidthCm', data=df)"
   ]
  },
  {
   "cell_type": "code",
   "execution_count": 33,
   "id": "6c71f761",
   "metadata": {},
   "outputs": [
    {
     "data": {
      "text/plain": [
       "<AxesSubplot:xlabel='PetalLengthCm', ylabel='PetalWidthCm'>"
      ]
     },
     "execution_count": 33,
     "metadata": {},
     "output_type": "execute_result"
    },
    {
     "data": {
      "image/png": "[encoded data removed]",
      "text/plain": [
       "<Figure size 432x288 with 1 Axes>"
      ]
     },
     "metadata": {
      "needs_background": "light"
     },
     "output_type": "display_data"
    }
   ],
   "source": [
    "sns.scatterplot(x='PetalLengthCm', y='PetalWidthCm', data=df, hue='Species')"
   ]
  },
  {
   "cell_type": "code",
   "execution_count": 35,
   "id": "e6183a30",
   "metadata": {},
   "outputs": [
    {
     "data": {
      "text/plain": [
       "([<matplotlib.patches.Wedge at 0x176f5e04b80>,\n",
       "  <matplotlib.patches.Wedge at 0x176f5e04340>,\n",
       "  <matplotlib.patches.Wedge at 0x176f5da1130>],\n",
       " [Text(0.5776548976824366, 1.0518150118644882, 'Iris-versicolor'),\n",
       "  Text(-1.0989953336498821, -0.04700272987587277, 'Iris-virginica'),\n",
       "  Text(0.5702318449125436, -0.9406570273206047, 'Iris-setosa')],\n",
       " [Text(0.3369653569814214, 0.6135587569209515, '34.01%'),\n",
       "  Text(-0.599452000172663, -0.025637852659566963, '33.33%'),\n",
       "  Text(0.3110355517704783, -0.5130856512657843, '32.65%')])"
      ]
     },
     "execution_count": 35,
     "metadata": {},
     "output_type": "execute_result"
    },
    {
     "data": {
      "image/png": "[encoded data removed]",
      "text/plain": [
       "<Figure size 432x288 with 1 Axes>"
      ]
     },
     "metadata": {},
     "output_type": "display_data"
    }
   ],
   "source": [
    "plt.pie(df.Species.value_counts().values, labels=df.Species.value_counts().keys(), explode=(0.1,0,0), shadow=True, autopct='%1.2f%%')"
   ]
  },
  {
   "cell_type": "code",
   "execution_count": 40,
   "id": "6c2b3024",
   "metadata": {},
   "outputs": [
    {
     "data": {
      "text/plain": [
       "<AxesSubplot:>"
      ]
     },
     "execution_count": 40,
     "metadata": {},
     "output_type": "execute_result"
    },
    {
     "data": {
      "image/png": "[encoded data removed]",
      "text/plain": [
       "<Figure size 432x288 with 2 Axes>"
      ]
     },
     "metadata": {
      "needs_background": "light"
     },
     "output_type": "display_data"
    }
   ],
   "source": [
    "sns.heatmap(df.corr(), cmap='ocean', annot=True, vmin=-1, vmax=1)"
   ]
  },
  {
   "cell_type": "markdown",
   "id": "868d2cc6",
   "metadata": {},
   "source": [
    "### Scaling the feature values"
   ]
  },
  {
   "cell_type": "code",
   "execution_count": 41,
   "id": "24573361",
   "metadata": {},
   "outputs": [],
   "source": [
    "from sklearn.preprocessing import StandardScaler"
   ]
  },
  {
   "cell_type": "code",
   "execution_count": 43,
   "id": "3b0ae39d",
   "metadata": {},
   "outputs": [],
   "source": [
    "x = df.drop(['Species'], axis=1)\n",
    "y= df[['Species']]\n"
   ]
  },
  {
   "cell_type": "code",
   "execution_count": 44,
   "id": "74dbe6dd",
   "metadata": {},
   "outputs": [
    {
     "data": {
      "text/plain": [
       "array([[-0.91550949,  1.0199714 , -1.35773692, -1.33570001],\n",
       "       [-1.15755966, -0.12808217, -1.35773692, -1.33570001],\n",
       "       [-1.39960983,  0.33113926, -1.41477817, -1.33570001],\n",
       "       [-1.52063491,  0.10152855, -1.30069567, -1.33570001],\n",
       "       [-1.03653457,  1.24958212, -1.35773692, -1.33570001],\n",
       "       [-0.55243423,  1.93841426, -1.18661318, -1.07090176],\n",
       "       [-1.52063491,  0.79036069, -1.35773692, -1.20330089],\n",
       "       [-1.03653457,  0.79036069, -1.30069567, -1.33570001],\n",
       "       [-1.76268509, -0.35769288, -1.35773692, -1.33570001],\n",
       "       [-1.15755966,  0.10152855, -1.30069567, -1.46809914],\n",
       "       [-0.55243423,  1.47919283, -1.30069567, -1.33570001],\n",
       "       [-1.27858474,  0.79036069, -1.24365442, -1.33570001],\n",
       "       [-1.27858474, -0.12808217, -1.35773692, -1.46809914],\n",
       "       [-1.88371017, -0.12808217, -1.52886066, -1.46809914],\n",
       "       [-0.06833389,  2.16802498, -1.47181942, -1.33570001],\n",
       "       [-0.18935898,  3.08646783, -1.30069567, -1.07090176],\n",
       "       [-0.55243423,  1.93841426, -1.41477817, -1.07090176],\n",
       "       [-0.91550949,  1.0199714 , -1.35773692, -1.20330089],\n",
       "       [-0.18935898,  1.70880355, -1.18661318, -1.20330089],\n",
       "       [-0.91550949,  1.70880355, -1.30069567, -1.20330089],\n",
       "       [-0.55243423,  0.79036069, -1.18661318, -1.33570001],\n",
       "       [-0.91550949,  1.47919283, -1.30069567, -1.07090176],\n",
       "       [-1.52063491,  1.24958212, -1.58590191, -1.33570001],\n",
       "       [-0.91550949,  0.56074998, -1.18661318, -0.93850264],\n",
       "       [-1.27858474,  0.79036069, -1.07253068, -1.33570001],\n",
       "       [-1.03653457, -0.12808217, -1.24365442, -1.33570001],\n",
       "       [-1.03653457,  0.79036069, -1.24365442, -1.07090176],\n",
       "       [-0.7944844 ,  1.0199714 , -1.30069567, -1.33570001],\n",
       "       [-0.7944844 ,  0.79036069, -1.35773692, -1.33570001],\n",
       "       [-1.39960983,  0.33113926, -1.24365442, -1.33570001],\n",
       "       [-1.27858474,  0.10152855, -1.24365442, -1.33570001],\n",
       "       [-0.55243423,  0.79036069, -1.30069567, -1.07090176],\n",
       "       [-0.7944844 ,  2.39763569, -1.30069567, -1.46809914],\n",
       "       [-0.43140915,  2.6272464 , -1.35773692, -1.33570001],\n",
       "       [-1.03653457,  0.33113926, -1.47181942, -1.33570001],\n",
       "       [-0.43140915,  1.0199714 , -1.41477817, -1.33570001],\n",
       "       [-1.76268509, -0.12808217, -1.41477817, -1.33570001],\n",
       "       [-0.91550949,  0.79036069, -1.30069567, -1.33570001],\n",
       "       [-1.03653457,  1.0199714 , -1.41477817, -1.20330089],\n",
       "       [-1.64166   , -1.73535717, -1.41477817, -1.20330089],\n",
       "       [-1.76268509,  0.33113926, -1.41477817, -1.33570001],\n",
       "       [-1.03653457,  1.0199714 , -1.24365442, -0.80610351],\n",
       "       [-0.91550949,  1.70880355, -1.07253068, -1.07090176],\n",
       "       [-1.27858474, -0.12808217, -1.35773692, -1.20330089],\n",
       "       [-0.91550949,  1.70880355, -1.24365442, -1.33570001],\n",
       "       [-1.52063491,  0.33113926, -1.35773692, -1.33570001],\n",
       "       [-0.67345932,  1.47919283, -1.30069567, -1.33570001],\n",
       "       [-1.03653457,  0.56074998, -1.35773692, -1.33570001],\n",
       "       [ 1.38396713,  0.33113926,  0.52462427,  0.25308948],\n",
       "       [ 0.65781662,  0.33113926,  0.41054177,  0.38548861],\n",
       "       [ 1.26294205,  0.10152855,  0.63870676,  0.38548861],\n",
       "       [-0.43140915, -1.73535717,  0.12533553,  0.12069036],\n",
       "       [ 0.77884171, -0.5873036 ,  0.46758302,  0.38548861],\n",
       "       [-0.18935898, -0.5873036 ,  0.41054177,  0.12069036],\n",
       "       [ 0.53679153,  0.56074998,  0.52462427,  0.51788773],\n",
       "       [-1.15755966, -1.50574645, -0.27395321, -0.27650702],\n",
       "       [ 0.89986679, -0.35769288,  0.46758302,  0.12069036],\n",
       "       [-0.7944844 , -0.81691431,  0.06829428,  0.25308948],\n",
       "       [-1.03653457, -2.42418931, -0.15987071, -0.27650702],\n",
       "       [ 0.05269119, -0.12808217,  0.23941803,  0.38548861],\n",
       "       [ 0.17371628, -1.96496788,  0.12533553, -0.27650702],\n",
       "       [ 0.29474136, -0.35769288,  0.52462427,  0.25308948],\n",
       "       [-0.31038406, -0.35769288, -0.10282946,  0.12069036],\n",
       "       [ 1.02089188,  0.10152855,  0.35350052,  0.25308948],\n",
       "       [-0.31038406, -0.12808217,  0.41054177,  0.38548861],\n",
       "       [-0.06833389, -0.81691431,  0.18237678, -0.27650702],\n",
       "       [ 0.41576645, -1.96496788,  0.41054177,  0.38548861],\n",
       "       [-0.31038406, -1.27613574,  0.06829428, -0.14410789],\n",
       "       [ 0.05269119,  0.33113926,  0.58166552,  0.78268598],\n",
       "       [ 0.29474136, -0.5873036 ,  0.12533553,  0.12069036],\n",
       "       [ 0.53679153, -1.27613574,  0.63870676,  0.38548861],\n",
       "       [ 0.29474136, -0.5873036 ,  0.52462427, -0.01170877],\n",
       "       [ 0.65781662, -0.35769288,  0.29645928,  0.12069036],\n",
       "       [ 0.89986679, -0.12808217,  0.35350052,  0.25308948],\n",
       "       [ 1.14191696, -0.5873036 ,  0.58166552,  0.25308948],\n",
       "       [ 1.02089188, -0.12808217,  0.69574801,  0.65028686],\n",
       "       [ 0.17371628, -0.35769288,  0.41054177,  0.38548861],\n",
       "       [-0.18935898, -1.04652502, -0.15987071, -0.27650702],\n",
       "       [-0.43140915, -1.50574645,  0.01125304, -0.14410789],\n",
       "       [-0.43140915, -1.50574645, -0.04578821, -0.27650702],\n",
       "       [-0.06833389, -0.81691431,  0.06829428, -0.01170877],\n",
       "       [ 0.17371628, -0.81691431,  0.75278926,  0.51788773],\n",
       "       [-0.55243423, -0.12808217,  0.41054177,  0.38548861],\n",
       "       [ 0.17371628,  0.79036069,  0.41054177,  0.51788773],\n",
       "       [ 1.02089188,  0.10152855,  0.52462427,  0.38548861],\n",
       "       [ 0.53679153, -1.73535717,  0.35350052,  0.12069036],\n",
       "       [-0.31038406, -0.12808217,  0.18237678,  0.12069036],\n",
       "       [-0.43140915, -1.27613574,  0.12533553,  0.12069036],\n",
       "       [-0.43140915, -1.04652502,  0.35350052, -0.01170877],\n",
       "       [ 0.29474136, -0.12808217,  0.46758302,  0.25308948],\n",
       "       [-0.06833389, -1.04652502,  0.12533553, -0.01170877],\n",
       "       [-1.03653457, -1.73535717, -0.27395321, -0.27650702],\n",
       "       [-0.31038406, -0.81691431,  0.23941803,  0.12069036],\n",
       "       [-0.18935898, -0.12808217,  0.23941803, -0.01170877],\n",
       "       [-0.18935898, -0.35769288,  0.23941803,  0.12069036],\n",
       "       [ 0.41576645, -0.35769288,  0.29645928,  0.12069036],\n",
       "       [-0.91550949, -1.27613574, -0.44507695, -0.14410789],\n",
       "       [-0.18935898, -0.5873036 ,  0.18237678,  0.12069036],\n",
       "       [ 0.53679153,  0.56074998,  1.26616049,  1.70947985],\n",
       "       [-0.06833389, -0.81691431,  0.75278926,  0.91508511],\n",
       "       [ 1.50499222, -0.12808217,  1.20911925,  1.17988336],\n",
       "       [ 0.53679153, -0.35769288,  1.0379955 ,  0.78268598],\n",
       "       [ 0.77884171, -0.12808217,  1.152078  ,  1.31228248],\n",
       "       [ 2.11011764, -0.12808217,  1.60840798,  1.17988336],\n",
       "       [-1.15755966, -1.27613574,  0.41054177,  0.65028686],\n",
       "       [ 1.74704239, -0.35769288,  1.43728424,  0.78268598],\n",
       "       [ 1.02089188, -1.27613574,  1.152078  ,  0.78268598],\n",
       "       [ 1.6260173 ,  1.24958212,  1.32320174,  1.70947985],\n",
       "       [ 0.77884171,  0.33113926,  0.75278926,  1.04748423],\n",
       "       [ 0.65781662, -0.81691431,  0.86687176,  0.91508511],\n",
       "       [ 1.14191696, -0.12808217,  0.98095425,  1.17988336],\n",
       "       [-0.18935898, -1.27613574,  0.69574801,  1.04748423],\n",
       "       [-0.06833389, -0.5873036 ,  0.75278926,  1.57708073],\n",
       "       [ 0.65781662,  0.33113926,  0.86687176,  1.4446816 ],\n",
       "       [ 0.77884171, -0.12808217,  0.98095425,  0.78268598],\n",
       "       [ 2.23114273,  1.70880355,  1.66544923,  1.31228248],\n",
       "       [ 2.23114273, -1.04652502,  1.77953173,  1.4446816 ],\n",
       "       [ 0.17371628, -1.96496788,  0.69574801,  0.38548861],\n",
       "       [ 1.26294205,  0.33113926,  1.09503675,  1.4446816 ],\n",
       "       [-0.31038406, -0.5873036 ,  0.63870676,  1.04748423],\n",
       "       [ 2.23114273, -0.5873036 ,  1.66544923,  1.04748423],\n",
       "       [ 0.53679153, -0.81691431,  0.63870676,  0.78268598],\n",
       "       [ 1.02089188,  0.56074998,  1.09503675,  1.17988336],\n",
       "       [ 1.6260173 ,  0.33113926,  1.26616049,  0.78268598],\n",
       "       [ 0.41576645, -0.5873036 ,  0.58166552,  0.78268598],\n",
       "       [ 0.29474136, -0.12808217,  0.63870676,  0.78268598],\n",
       "       [ 0.65781662, -0.5873036 ,  1.0379955 ,  1.17988336],\n",
       "       [ 1.6260173 , -0.12808217,  1.152078  ,  0.51788773],\n",
       "       [ 1.86806747, -0.5873036 ,  1.32320174,  0.91508511],\n",
       "       [ 2.4731929 ,  1.70880355,  1.49432549,  1.04748423],\n",
       "       [ 0.65781662, -0.5873036 ,  1.0379955 ,  1.31228248],\n",
       "       [ 0.53679153, -0.5873036 ,  0.75278926,  0.38548861],\n",
       "       [ 0.29474136, -1.04652502,  1.0379955 ,  0.25308948],\n",
       "       [ 2.23114273, -0.12808217,  1.32320174,  1.4446816 ],\n",
       "       [ 0.53679153,  0.79036069,  1.0379955 ,  1.57708073],\n",
       "       [ 0.65781662,  0.10152855,  0.98095425,  0.78268598],\n",
       "       [ 0.17371628, -0.12808217,  0.58166552,  0.78268598],\n",
       "       [ 1.26294205,  0.10152855,  0.92391301,  1.17988336],\n",
       "       [ 1.02089188,  0.10152855,  1.0379955 ,  1.57708073],\n",
       "       [ 1.26294205,  0.10152855,  0.75278926,  1.4446816 ],\n",
       "       [ 1.14191696,  0.33113926,  1.20911925,  1.4446816 ],\n",
       "       [ 1.02089188,  0.56074998,  1.09503675,  1.70947985],\n",
       "       [ 1.02089188, -0.12808217,  0.80983051,  1.4446816 ],\n",
       "       [ 0.53679153, -1.27613574,  0.69574801,  0.91508511],\n",
       "       [ 0.77884171, -0.12808217,  0.80983051,  1.04748423],\n",
       "       [ 0.41576645,  0.79036069,  0.92391301,  1.4446816 ],\n",
       "       [ 0.05269119, -0.12808217,  0.75278926,  0.78268598]])"
      ]
     },
     "execution_count": 44,
     "metadata": {},
     "output_type": "execute_result"
    }
   ],
   "source": [
    "scale_x = StandardScaler()\n",
    "scale_x = scale_x.fit_transform(x)\n",
    "scale_x"
   ]
  },
  {
   "cell_type": "code",
   "execution_count": 46,
   "id": "c0b9fb05",
   "metadata": {},
   "outputs": [
    {
     "data": {
      "text/html": [
       "<div>\n",
       "<style scoped>\n",
       "    .dataframe tbody tr th:only-of-type {\n",
       "        vertical-align: middle;\n",
       "    }\n",
       "\n",
       "    .dataframe tbody tr th {\n",
       "        vertical-align: top;\n",
       "    }\n",
       "\n",
       "    .dataframe thead th {\n",
       "        text-align: right;\n",
       "    }\n",
       "</style>\n",
       "<table border=\"1\" class=\"dataframe\">\n",
       "  <thead>\n",
       "    <tr style=\"text-align: right;\">\n",
       "      <th></th>\n",
       "      <th>SepalLengthCm</th>\n",
       "      <th>SepalWidthCm</th>\n",
       "      <th>PetalLengthCm</th>\n",
       "      <th>PetalWidthCm</th>\n",
       "    </tr>\n",
       "  </thead>\n",
       "  <tbody>\n",
       "    <tr>\n",
       "      <th>0</th>\n",
       "      <td>-0.915509</td>\n",
       "      <td>1.019971</td>\n",
       "      <td>-1.357737</td>\n",
       "      <td>-1.3357</td>\n",
       "    </tr>\n",
       "    <tr>\n",
       "      <th>1</th>\n",
       "      <td>-1.157560</td>\n",
       "      <td>-0.128082</td>\n",
       "      <td>-1.357737</td>\n",
       "      <td>-1.3357</td>\n",
       "    </tr>\n",
       "    <tr>\n",
       "      <th>2</th>\n",
       "      <td>-1.399610</td>\n",
       "      <td>0.331139</td>\n",
       "      <td>-1.414778</td>\n",
       "      <td>-1.3357</td>\n",
       "    </tr>\n",
       "    <tr>\n",
       "      <th>3</th>\n",
       "      <td>-1.520635</td>\n",
       "      <td>0.101529</td>\n",
       "      <td>-1.300696</td>\n",
       "      <td>-1.3357</td>\n",
       "    </tr>\n",
       "    <tr>\n",
       "      <th>4</th>\n",
       "      <td>-1.036535</td>\n",
       "      <td>1.249582</td>\n",
       "      <td>-1.357737</td>\n",
       "      <td>-1.3357</td>\n",
       "    </tr>\n",
       "  </tbody>\n",
       "</table>\n",
       "</div>"
      ],
      "text/plain": [
       "   SepalLengthCm  SepalWidthCm  PetalLengthCm  PetalWidthCm\n",
       "0      -0.915509      1.019971      -1.357737       -1.3357\n",
       "1      -1.157560     -0.128082      -1.357737       -1.3357\n",
       "2      -1.399610      0.331139      -1.414778       -1.3357\n",
       "3      -1.520635      0.101529      -1.300696       -1.3357\n",
       "4      -1.036535      1.249582      -1.357737       -1.3357"
      ]
     },
     "execution_count": 46,
     "metadata": {},
     "output_type": "execute_result"
    }
   ],
   "source": [
    "scale_x = pd.DataFrame(scale_x, columns=x.columns)\n",
    "scale_x.head()"
   ]
  },
  {
   "cell_type": "markdown",
   "id": "0c8fb8d3",
   "metadata": {},
   "source": [
    "### Model Building: K- Means Clustering"
   ]
  },
  {
   "cell_type": "code",
   "execution_count": 47,
   "id": "f374fc4d",
   "metadata": {},
   "outputs": [],
   "source": [
    "from sklearn.cluster import KMeans"
   ]
  },
  {
   "cell_type": "code",
   "execution_count": 56,
   "id": "8fadd9e8",
   "metadata": {},
   "outputs": [],
   "source": [
    "ll=[]\n",
    "el= []\n",
    "for k in range(2,15):\n",
    "    for algo in ['lloyd', 'elkan']:\n",
    "        model = KMeans(init='k-means++', algorithm=algo, n_clusters=k)\n",
    "        model = model.fit(scale_x)\n",
    "        if algo == 'lloyd':\n",
    "            ll.append(model.inertia_)\n",
    "        else:\n",
    "            el.append(model.inertia_)\n",
    "d = {}\n",
    "d['lloyd'] = ll\n",
    "d['elkan'] = el\n",
    "    \n",
    "    "
   ]
  },
  {
   "cell_type": "code",
   "execution_count": 57,
   "id": "b8f62388",
   "metadata": {},
   "outputs": [
    {
     "data": {
      "text/plain": [
       "[220.85907940742362,\n",
       " 138.25771133117863,\n",
       " 112.90751031641204,\n",
       " 89.83564615155609,\n",
       " 79.39565890379575,\n",
       " 71.60211159859212,\n",
       " 61.78134417652017,\n",
       " 55.15653200264536,\n",
       " 46.71917634122039,\n",
       " 42.25502746963446,\n",
       " 40.5044818850083,\n",
       " 36.595256099342826,\n",
       " 34.28928359327052]"
      ]
     },
     "execution_count": 57,
     "metadata": {},
     "output_type": "execute_result"
    }
   ],
   "source": [
    "ll"
   ]
  },
  {
   "cell_type": "code",
   "execution_count": 61,
   "id": "ba750635",
   "metadata": {},
   "outputs": [
    {
     "data": {
      "image/png": "[encoded data removed]",
      "text/plain": [
       "<Figure size 432x288 with 1 Axes>"
      ]
     },
     "metadata": {
      "needs_background": "light"
     },
     "output_type": "display_data"
    }
   ],
   "source": [
    "#finding best value of k(n_clusters)\n",
    "\n",
    "plt.plot(range(2,15), d['lloyd'], color='blue', label='lloyd' )\n",
    "plt.plot(range(2,15), d['elkan'], color='green', label='elkan' )\n",
    "plt.xlabel('number of clusters')\n",
    "plt.ylabel('inertia')\n",
    "plt.legend()\n",
    "plt.show()"
   ]
  },
  {
   "cell_type": "markdown",
   "id": "e45bbf41",
   "metadata": {},
   "source": [
    "#### From above plot its clear that elbow at k value 3"
   ]
  },
  {
   "cell_type": "code",
   "execution_count": 63,
   "id": "75457b8a",
   "metadata": {},
   "outputs": [],
   "source": [
    "#model using best parameter n_clusters = 3 and algo=elkan\n",
    "\n",
    "model = KMeans(init='k-means++', algorithm='elkan', n_clusters=3)\n",
    "model = model.fit(scale_x)\n",
    "y_pred = model.labels_"
   ]
  },
  {
   "cell_type": "code",
   "execution_count": 64,
   "id": "06c4e55b",
   "metadata": {},
   "outputs": [
    {
     "data": {
      "text/plain": [
       "array([1, 1, 1, 1, 1, 1, 1, 1, 1, 1, 1, 1, 1, 1, 1, 1, 1, 1, 1, 1, 1, 1,\n",
       "       1, 1, 1, 1, 1, 1, 1, 1, 1, 1, 1, 1, 1, 1, 1, 1, 1, 1, 1, 1, 1, 1,\n",
       "       1, 1, 1, 1, 0, 0, 0, 2, 2, 2, 0, 2, 2, 2, 2, 2, 2, 2, 2, 0, 2, 2,\n",
       "       2, 2, 0, 2, 2, 2, 2, 0, 0, 0, 2, 2, 2, 2, 2, 2, 2, 0, 0, 2, 2, 2,\n",
       "       2, 2, 2, 2, 2, 2, 2, 2, 2, 2, 0, 2, 0, 0, 0, 0, 2, 0, 0, 0, 0, 0,\n",
       "       0, 2, 2, 0, 0, 0, 0, 2, 0, 2, 0, 2, 0, 0, 2, 0, 0, 0, 0, 0, 0, 2,\n",
       "       2, 0, 0, 0, 2, 0, 0, 0, 0, 0, 0, 2, 0, 0, 2])"
      ]
     },
     "execution_count": 64,
     "metadata": {},
     "output_type": "execute_result"
    }
   ],
   "source": [
    "y_pred"
   ]
  },
  {
   "cell_type": "code",
   "execution_count": 65,
   "id": "d3059f6d",
   "metadata": {},
   "outputs": [
    {
     "data": {
      "text/plain": [
       "0.4572716133419621"
      ]
     },
     "execution_count": 65,
     "metadata": {},
     "output_type": "execute_result"
    }
   ],
   "source": [
    "# silhouette score calculation\n",
    "from sklearn.metrics import silhouette_score\n",
    "sil_score = silhouette_score(scale_x, y_pred)\n",
    "sil_score"
   ]
  },
  {
   "cell_type": "code",
   "execution_count": 66,
   "id": "c5e6de7b",
   "metadata": {},
   "outputs": [],
   "source": [
    "x = df.drop(['Species'], axis=1)"
   ]
  },
  {
   "cell_type": "code",
   "execution_count": 67,
   "id": "daa1678a",
   "metadata": {},
   "outputs": [
    {
     "data": {
      "text/plain": [
       "0.5038502819860474"
      ]
     },
     "execution_count": 67,
     "metadata": {},
     "output_type": "execute_result"
    }
   ],
   "source": [
    "sil_score = silhouette_score(x, y_pred)\n",
    "sil_score"
   ]
  },
  {
   "cell_type": "code",
   "execution_count": 95,
   "id": "783726eb",
   "metadata": {},
   "outputs": [],
   "source": [
    "# without scaling we were getting more accuracy (silhouette_score =0.5)\n",
    "model = KMeans(init='k-means++', algorithm='elkan', n_clusters=3)\n",
    "model = model.fit(x)\n",
    "y_pred = model.labels_"
   ]
  },
  {
   "cell_type": "code",
   "execution_count": 96,
   "id": "5fb32e78",
   "metadata": {},
   "outputs": [
    {
     "data": {
      "text/plain": [
       "array([1, 1, 1, 1, 1, 1, 1, 1, 1, 1, 1, 1, 1, 1, 1, 1, 1, 1, 1, 1, 1, 1,\n",
       "       1, 1, 1, 1, 1, 1, 1, 1, 1, 1, 1, 1, 1, 1, 1, 1, 1, 1, 1, 1, 1, 1,\n",
       "       1, 1, 1, 1, 0, 0, 2, 0, 0, 0, 0, 0, 0, 0, 0, 0, 0, 0, 0, 0, 0, 0,\n",
       "       0, 0, 0, 0, 0, 0, 0, 0, 0, 2, 0, 0, 0, 0, 0, 0, 0, 0, 0, 0, 0, 0,\n",
       "       0, 0, 0, 0, 0, 0, 0, 0, 0, 0, 2, 0, 2, 2, 2, 2, 0, 2, 2, 2, 2, 2,\n",
       "       2, 0, 0, 2, 2, 2, 2, 0, 2, 0, 2, 0, 2, 2, 0, 0, 2, 2, 2, 2, 2, 0,\n",
       "       2, 2, 2, 2, 0, 2, 2, 2, 2, 2, 2, 0, 2, 2, 0])"
      ]
     },
     "execution_count": 96,
     "metadata": {},
     "output_type": "execute_result"
    }
   ],
   "source": [
    "y_pred"
   ]
  },
  {
   "cell_type": "code",
   "execution_count": 97,
   "id": "455059b0",
   "metadata": {},
   "outputs": [],
   "source": [
    "df['pred_species'] = y_pred"
   ]
  },
  {
   "cell_type": "code",
   "execution_count": 98,
   "id": "fb8b965b",
   "metadata": {},
   "outputs": [
    {
     "data": {
      "text/html": [
       "<div>\n",
       "<style scoped>\n",
       "    .dataframe tbody tr th:only-of-type {\n",
       "        vertical-align: middle;\n",
       "    }\n",
       "\n",
       "    .dataframe tbody tr th {\n",
       "        vertical-align: top;\n",
       "    }\n",
       "\n",
       "    .dataframe thead th {\n",
       "        text-align: right;\n",
       "    }\n",
       "</style>\n",
       "<table border=\"1\" class=\"dataframe\">\n",
       "  <thead>\n",
       "    <tr style=\"text-align: right;\">\n",
       "      <th></th>\n",
       "      <th>SepalLengthCm</th>\n",
       "      <th>SepalWidthCm</th>\n",
       "      <th>PetalLengthCm</th>\n",
       "      <th>PetalWidthCm</th>\n",
       "      <th>Species</th>\n",
       "      <th>pred_species</th>\n",
       "    </tr>\n",
       "  </thead>\n",
       "  <tbody>\n",
       "    <tr>\n",
       "      <th>0</th>\n",
       "      <td>5.1</td>\n",
       "      <td>3.5</td>\n",
       "      <td>1.4</td>\n",
       "      <td>0.2</td>\n",
       "      <td>Iris-setosa</td>\n",
       "      <td>1</td>\n",
       "    </tr>\n",
       "    <tr>\n",
       "      <th>1</th>\n",
       "      <td>4.9</td>\n",
       "      <td>3.0</td>\n",
       "      <td>1.4</td>\n",
       "      <td>0.2</td>\n",
       "      <td>Iris-setosa</td>\n",
       "      <td>1</td>\n",
       "    </tr>\n",
       "    <tr>\n",
       "      <th>2</th>\n",
       "      <td>4.7</td>\n",
       "      <td>3.2</td>\n",
       "      <td>1.3</td>\n",
       "      <td>0.2</td>\n",
       "      <td>Iris-setosa</td>\n",
       "      <td>1</td>\n",
       "    </tr>\n",
       "    <tr>\n",
       "      <th>3</th>\n",
       "      <td>4.6</td>\n",
       "      <td>3.1</td>\n",
       "      <td>1.5</td>\n",
       "      <td>0.2</td>\n",
       "      <td>Iris-setosa</td>\n",
       "      <td>1</td>\n",
       "    </tr>\n",
       "    <tr>\n",
       "      <th>4</th>\n",
       "      <td>5.0</td>\n",
       "      <td>3.6</td>\n",
       "      <td>1.4</td>\n",
       "      <td>0.2</td>\n",
       "      <td>Iris-setosa</td>\n",
       "      <td>1</td>\n",
       "    </tr>\n",
       "  </tbody>\n",
       "</table>\n",
       "</div>"
      ],
      "text/plain": [
       "   SepalLengthCm  SepalWidthCm  PetalLengthCm  PetalWidthCm      Species  \\\n",
       "0            5.1           3.5            1.4           0.2  Iris-setosa   \n",
       "1            4.9           3.0            1.4           0.2  Iris-setosa   \n",
       "2            4.7           3.2            1.3           0.2  Iris-setosa   \n",
       "3            4.6           3.1            1.5           0.2  Iris-setosa   \n",
       "4            5.0           3.6            1.4           0.2  Iris-setosa   \n",
       "\n",
       "   pred_species  \n",
       "0             1  \n",
       "1             1  \n",
       "2             1  \n",
       "3             1  \n",
       "4             1  "
      ]
     },
     "execution_count": 98,
     "metadata": {},
     "output_type": "execute_result"
    }
   ],
   "source": [
    "df.head()"
   ]
  },
  {
   "cell_type": "code",
   "execution_count": 99,
   "id": "eecfffb9",
   "metadata": {},
   "outputs": [
    {
     "data": {
      "text/plain": [
       "<AxesSubplot:xlabel='PetalLengthCm', ylabel='PetalWidthCm'>"
      ]
     },
     "execution_count": 99,
     "metadata": {},
     "output_type": "execute_result"
    },
    {
     "data": {
      "image/png": "[encoded data removed]",
      "text/plain": [
       "<Figure size 432x288 with 1 Axes>"
      ]
     },
     "metadata": {
      "needs_background": "light"
     },
     "output_type": "display_data"
    }
   ],
   "source": [
    "sns.scatterplot(x='PetalLengthCm', y='PetalWidthCm', data=df, hue='pred_species')"
   ]
  },
  {
   "cell_type": "code",
   "execution_count": 100,
   "id": "ba9a81a3",
   "metadata": {},
   "outputs": [
    {
     "data": {
      "text/plain": [
       "<AxesSubplot:xlabel='PetalLengthCm', ylabel='PetalWidthCm'>"
      ]
     },
     "execution_count": 100,
     "metadata": {},
     "output_type": "execute_result"
    },
    {
     "data": {
      "image/png": "[encoded data removed]",
      "text/plain": [
       "<Figure size 432x288 with 1 Axes>"
      ]
     },
     "metadata": {
      "needs_background": "light"
     },
     "output_type": "display_data"
    }
   ],
   "source": [
    "sns.scatterplot(x='PetalLengthCm', y='PetalWidthCm', data=df, hue='Species')"
   ]
  },
  {
   "cell_type": "code",
   "execution_count": 101,
   "id": "f0ee2e4b",
   "metadata": {},
   "outputs": [],
   "source": [
    "#0-setosa, 1-versicolor, 2=virginica\n",
    "def spe(specie_num):\n",
    "    if specie_num == 1:\n",
    "        return 'Iris-setosa'\n",
    "    elif specie_num == 0:\n",
    "        return 'Iris-versicolor'\n",
    "    else:\n",
    "        return 'Iris-virginica'\n",
    "    \n",
    "    "
   ]
  },
  {
   "cell_type": "code",
   "execution_count": 102,
   "id": "0dd17dd6",
   "metadata": {},
   "outputs": [
    {
     "data": {
      "text/plain": [
       "0    Iris-setosa\n",
       "1    Iris-setosa\n",
       "2    Iris-setosa\n",
       "3    Iris-setosa\n",
       "4    Iris-setosa\n",
       "Name: pred_species, dtype: object"
      ]
     },
     "execution_count": 102,
     "metadata": {},
     "output_type": "execute_result"
    }
   ],
   "source": [
    "df['pred_species'] = df['pred_species'].apply(spe)\n",
    "df['pred_species'].head()"
   ]
  },
  {
   "cell_type": "code",
   "execution_count": 103,
   "id": "246aa1e7",
   "metadata": {},
   "outputs": [
    {
     "data": {
      "text/html": [
       "<div>\n",
       "<style scoped>\n",
       "    .dataframe tbody tr th:only-of-type {\n",
       "        vertical-align: middle;\n",
       "    }\n",
       "\n",
       "    .dataframe tbody tr th {\n",
       "        vertical-align: top;\n",
       "    }\n",
       "\n",
       "    .dataframe thead th {\n",
       "        text-align: right;\n",
       "    }\n",
       "</style>\n",
       "<table border=\"1\" class=\"dataframe\">\n",
       "  <thead>\n",
       "    <tr style=\"text-align: right;\">\n",
       "      <th></th>\n",
       "      <th>SepalLengthCm</th>\n",
       "      <th>SepalWidthCm</th>\n",
       "      <th>PetalLengthCm</th>\n",
       "      <th>PetalWidthCm</th>\n",
       "      <th>Species</th>\n",
       "      <th>pred_species</th>\n",
       "    </tr>\n",
       "  </thead>\n",
       "  <tbody>\n",
       "    <tr>\n",
       "      <th>0</th>\n",
       "      <td>5.1</td>\n",
       "      <td>3.5</td>\n",
       "      <td>1.4</td>\n",
       "      <td>0.2</td>\n",
       "      <td>Iris-setosa</td>\n",
       "      <td>Iris-setosa</td>\n",
       "    </tr>\n",
       "    <tr>\n",
       "      <th>1</th>\n",
       "      <td>4.9</td>\n",
       "      <td>3.0</td>\n",
       "      <td>1.4</td>\n",
       "      <td>0.2</td>\n",
       "      <td>Iris-setosa</td>\n",
       "      <td>Iris-setosa</td>\n",
       "    </tr>\n",
       "    <tr>\n",
       "      <th>2</th>\n",
       "      <td>4.7</td>\n",
       "      <td>3.2</td>\n",
       "      <td>1.3</td>\n",
       "      <td>0.2</td>\n",
       "      <td>Iris-setosa</td>\n",
       "      <td>Iris-setosa</td>\n",
       "    </tr>\n",
       "    <tr>\n",
       "      <th>3</th>\n",
       "      <td>4.6</td>\n",
       "      <td>3.1</td>\n",
       "      <td>1.5</td>\n",
       "      <td>0.2</td>\n",
       "      <td>Iris-setosa</td>\n",
       "      <td>Iris-setosa</td>\n",
       "    </tr>\n",
       "    <tr>\n",
       "      <th>4</th>\n",
       "      <td>5.0</td>\n",
       "      <td>3.6</td>\n",
       "      <td>1.4</td>\n",
       "      <td>0.2</td>\n",
       "      <td>Iris-setosa</td>\n",
       "      <td>Iris-setosa</td>\n",
       "    </tr>\n",
       "  </tbody>\n",
       "</table>\n",
       "</div>"
      ],
      "text/plain": [
       "   SepalLengthCm  SepalWidthCm  PetalLengthCm  PetalWidthCm      Species  \\\n",
       "0            5.1           3.5            1.4           0.2  Iris-setosa   \n",
       "1            4.9           3.0            1.4           0.2  Iris-setosa   \n",
       "2            4.7           3.2            1.3           0.2  Iris-setosa   \n",
       "3            4.6           3.1            1.5           0.2  Iris-setosa   \n",
       "4            5.0           3.6            1.4           0.2  Iris-setosa   \n",
       "\n",
       "  pred_species  \n",
       "0  Iris-setosa  \n",
       "1  Iris-setosa  \n",
       "2  Iris-setosa  \n",
       "3  Iris-setosa  \n",
       "4  Iris-setosa  "
      ]
     },
     "execution_count": 103,
     "metadata": {},
     "output_type": "execute_result"
    }
   ],
   "source": [
    "df.head()"
   ]
  },
  {
   "cell_type": "code",
   "execution_count": 104,
   "id": "4c213df7",
   "metadata": {},
   "outputs": [
    {
     "data": {
      "text/plain": [
       "<AxesSubplot:xlabel='PetalLengthCm', ylabel='PetalWidthCm'>"
      ]
     },
     "execution_count": 104,
     "metadata": {},
     "output_type": "execute_result"
    },
    {
     "data": {
      "image/png": "[encoded data removed]",
      "text/plain": [
       "<Figure size 432x288 with 1 Axes>"
      ]
     },
     "metadata": {
      "needs_background": "light"
     },
     "output_type": "display_data"
    }
   ],
   "source": [
    "sns.scatterplot(x='PetalLengthCm', y='PetalWidthCm', data=df, hue='pred_species')"
   ]
  },
  {
   "cell_type": "code",
   "execution_count": 110,
   "id": "7492e787",
   "metadata": {},
   "outputs": [
    {
     "data": {
      "text/html": [
       "<div>\n",
       "<style scoped>\n",
       "    .dataframe tbody tr th:only-of-type {\n",
       "        vertical-align: middle;\n",
       "    }\n",
       "\n",
       "    .dataframe tbody tr th {\n",
       "        vertical-align: top;\n",
       "    }\n",
       "\n",
       "    .dataframe thead th {\n",
       "        text-align: right;\n",
       "    }\n",
       "</style>\n",
       "<table border=\"1\" class=\"dataframe\">\n",
       "  <thead>\n",
       "    <tr style=\"text-align: right;\">\n",
       "      <th></th>\n",
       "      <th>SepalLengthCm</th>\n",
       "      <th>SepalWidthCm</th>\n",
       "      <th>PetalLengthCm</th>\n",
       "      <th>PetalWidthCm</th>\n",
       "      <th>Species</th>\n",
       "      <th>pred_species</th>\n",
       "    </tr>\n",
       "  </thead>\n",
       "  <tbody>\n",
       "    <tr>\n",
       "      <th>52</th>\n",
       "      <td>6.9</td>\n",
       "      <td>3.1</td>\n",
       "      <td>4.9</td>\n",
       "      <td>1.5</td>\n",
       "      <td>Iris-versicolor</td>\n",
       "      <td>Iris-virginica</td>\n",
       "    </tr>\n",
       "    <tr>\n",
       "      <th>77</th>\n",
       "      <td>6.7</td>\n",
       "      <td>3.0</td>\n",
       "      <td>5.0</td>\n",
       "      <td>1.7</td>\n",
       "      <td>Iris-versicolor</td>\n",
       "      <td>Iris-virginica</td>\n",
       "    </tr>\n",
       "    <tr>\n",
       "      <th>101</th>\n",
       "      <td>5.8</td>\n",
       "      <td>2.7</td>\n",
       "      <td>5.1</td>\n",
       "      <td>1.9</td>\n",
       "      <td>Iris-virginica</td>\n",
       "      <td>Iris-versicolor</td>\n",
       "    </tr>\n",
       "    <tr>\n",
       "      <th>106</th>\n",
       "      <td>4.9</td>\n",
       "      <td>2.5</td>\n",
       "      <td>4.5</td>\n",
       "      <td>1.7</td>\n",
       "      <td>Iris-virginica</td>\n",
       "      <td>Iris-versicolor</td>\n",
       "    </tr>\n",
       "    <tr>\n",
       "      <th>113</th>\n",
       "      <td>5.7</td>\n",
       "      <td>2.5</td>\n",
       "      <td>5.0</td>\n",
       "      <td>2.0</td>\n",
       "      <td>Iris-virginica</td>\n",
       "      <td>Iris-versicolor</td>\n",
       "    </tr>\n",
       "    <tr>\n",
       "      <th>114</th>\n",
       "      <td>5.8</td>\n",
       "      <td>2.8</td>\n",
       "      <td>5.1</td>\n",
       "      <td>2.4</td>\n",
       "      <td>Iris-virginica</td>\n",
       "      <td>Iris-versicolor</td>\n",
       "    </tr>\n",
       "    <tr>\n",
       "      <th>119</th>\n",
       "      <td>6.0</td>\n",
       "      <td>2.2</td>\n",
       "      <td>5.0</td>\n",
       "      <td>1.5</td>\n",
       "      <td>Iris-virginica</td>\n",
       "      <td>Iris-versicolor</td>\n",
       "    </tr>\n",
       "    <tr>\n",
       "      <th>121</th>\n",
       "      <td>5.6</td>\n",
       "      <td>2.8</td>\n",
       "      <td>4.9</td>\n",
       "      <td>2.0</td>\n",
       "      <td>Iris-virginica</td>\n",
       "      <td>Iris-versicolor</td>\n",
       "    </tr>\n",
       "    <tr>\n",
       "      <th>123</th>\n",
       "      <td>6.3</td>\n",
       "      <td>2.7</td>\n",
       "      <td>4.9</td>\n",
       "      <td>1.8</td>\n",
       "      <td>Iris-virginica</td>\n",
       "      <td>Iris-versicolor</td>\n",
       "    </tr>\n",
       "    <tr>\n",
       "      <th>126</th>\n",
       "      <td>6.2</td>\n",
       "      <td>2.8</td>\n",
       "      <td>4.8</td>\n",
       "      <td>1.8</td>\n",
       "      <td>Iris-virginica</td>\n",
       "      <td>Iris-versicolor</td>\n",
       "    </tr>\n",
       "    <tr>\n",
       "      <th>127</th>\n",
       "      <td>6.1</td>\n",
       "      <td>3.0</td>\n",
       "      <td>4.9</td>\n",
       "      <td>1.8</td>\n",
       "      <td>Iris-virginica</td>\n",
       "      <td>Iris-versicolor</td>\n",
       "    </tr>\n",
       "    <tr>\n",
       "      <th>133</th>\n",
       "      <td>6.3</td>\n",
       "      <td>2.8</td>\n",
       "      <td>5.1</td>\n",
       "      <td>1.5</td>\n",
       "      <td>Iris-virginica</td>\n",
       "      <td>Iris-versicolor</td>\n",
       "    </tr>\n",
       "    <tr>\n",
       "      <th>138</th>\n",
       "      <td>6.0</td>\n",
       "      <td>3.0</td>\n",
       "      <td>4.8</td>\n",
       "      <td>1.8</td>\n",
       "      <td>Iris-virginica</td>\n",
       "      <td>Iris-versicolor</td>\n",
       "    </tr>\n",
       "    <tr>\n",
       "      <th>146</th>\n",
       "      <td>6.3</td>\n",
       "      <td>2.5</td>\n",
       "      <td>5.0</td>\n",
       "      <td>1.9</td>\n",
       "      <td>Iris-virginica</td>\n",
       "      <td>Iris-versicolor</td>\n",
       "    </tr>\n",
       "    <tr>\n",
       "      <th>149</th>\n",
       "      <td>5.9</td>\n",
       "      <td>3.0</td>\n",
       "      <td>5.1</td>\n",
       "      <td>1.8</td>\n",
       "      <td>Iris-virginica</td>\n",
       "      <td>Iris-versicolor</td>\n",
       "    </tr>\n",
       "  </tbody>\n",
       "</table>\n",
       "</div>"
      ],
      "text/plain": [
       "     SepalLengthCm  SepalWidthCm  PetalLengthCm  PetalWidthCm  \\\n",
       "52             6.9           3.1            4.9           1.5   \n",
       "77             6.7           3.0            5.0           1.7   \n",
       "101            5.8           2.7            5.1           1.9   \n",
       "106            4.9           2.5            4.5           1.7   \n",
       "113            5.7           2.5            5.0           2.0   \n",
       "114            5.8           2.8            5.1           2.4   \n",
       "119            6.0           2.2            5.0           1.5   \n",
       "121            5.6           2.8            4.9           2.0   \n",
       "123            6.3           2.7            4.9           1.8   \n",
       "126            6.2           2.8            4.8           1.8   \n",
       "127            6.1           3.0            4.9           1.8   \n",
       "133            6.3           2.8            5.1           1.5   \n",
       "138            6.0           3.0            4.8           1.8   \n",
       "146            6.3           2.5            5.0           1.9   \n",
       "149            5.9           3.0            5.1           1.8   \n",
       "\n",
       "             Species     pred_species  \n",
       "52   Iris-versicolor   Iris-virginica  \n",
       "77   Iris-versicolor   Iris-virginica  \n",
       "101   Iris-virginica  Iris-versicolor  \n",
       "106   Iris-virginica  Iris-versicolor  \n",
       "113   Iris-virginica  Iris-versicolor  \n",
       "114   Iris-virginica  Iris-versicolor  \n",
       "119   Iris-virginica  Iris-versicolor  \n",
       "121   Iris-virginica  Iris-versicolor  \n",
       "123   Iris-virginica  Iris-versicolor  \n",
       "126   Iris-virginica  Iris-versicolor  \n",
       "127   Iris-virginica  Iris-versicolor  \n",
       "133   Iris-virginica  Iris-versicolor  \n",
       "138   Iris-virginica  Iris-versicolor  \n",
       "146   Iris-virginica  Iris-versicolor  \n",
       "149   Iris-virginica  Iris-versicolor  "
      ]
     },
     "execution_count": 110,
     "metadata": {},
     "output_type": "execute_result"
    }
   ],
   "source": [
    "df[df['pred_species']!=df['Species']]"
   ]
  },
  {
   "cell_type": "code",
   "execution_count": null,
   "id": "2d2f46e6",
   "metadata": {},
   "outputs": [],
   "source": []
  }
 ],
 "metadata": {
  "kernelspec": {
   "display_name": "Python 3 (ipykernel)",
   "language": "python",
   "name": "python3"
  },
  "language_info": {
   "codemirror_mode": {
    "name": "ipython",
    "version": 3
   },
   "file_extension": ".py",
   "mimetype": "text/x-python",
   "name": "python",
   "nbconvert_exporter": "python",
   "pygments_lexer": "ipython3",
   "version": "3.8.12"
  }
 },
 "nbformat": 4,
 "nbformat_minor": 5
}
