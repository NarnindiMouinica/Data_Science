{
  "nbformat": 4,
  "nbformat_minor": 0,
  "metadata": {
    "colab": {
      "provenance": [],
      "authorship_tag": "ABX9TyP0eKqRuP7zUcHzoNi7aQwp",
      "include_colab_link": true
    },
    "kernelspec": {
      "name": "python3",
      "display_name": "Python 3"
    },
    "language_info": {
      "name": "python"
    }
  },
  "cells": [
    {
      "cell_type": "markdown",
      "metadata": {
        "id": "view-in-github",
        "colab_type": "text"
      },
      "source": [
        "<a href=\"https://colab.research.google.com/github/NarnindiMounica/Data_Science/blob/main/Python_Lists.ipynb\" target=\"_parent\"><img src=\"https://colab.research.google.com/assets/colab-badge.svg\" alt=\"Open In Colab\"/></a>"
      ]
    },
    {
      "cell_type": "markdown",
      "source": [
        "Some examples using Lists in Python"
      ],
      "metadata": {
        "id": "8eLj1-Jh3lMk"
      }
    },
    {
      "cell_type": "code",
      "source": [
        "#Write a Python program to find the sum of all elements in a list using loop.\n",
        "#Input:- [10,20,30,40]\n",
        "#Output:- 100\n",
        "\n",
        "\n",
        "my_list = [10,20,30,40]\n",
        "element_sum = 0\n",
        "for element in  my_list:\n",
        "    element_sum += element\n",
        "print(element_sum)    "
      ],
      "metadata": {
        "colab": {
          "base_uri": "https://localhost:8080/"
        },
        "id": "998tKy0h3ys2",
        "outputId": "edeaea88-4955-45fd-92d6-8b3bbb09fa53"
      },
      "execution_count": 2,
      "outputs": [
        {
          "output_type": "stream",
          "name": "stdout",
          "text": [
            "100\n"
          ]
        }
      ]
    },
    {
      "cell_type": "code",
      "source": [
        "#Write a Python program to find the multiplication of all elements in a list using loop.\n",
        "#Input:- [10,20,30,40]\n",
        "#Output:- 240000\n",
        "\n",
        "my_list = [10,20,30,40]\n",
        "prd_element = 1\n",
        "for element in my_list:\n",
        "  prd_element *= element\n",
        "print(prd_element)  \n"
      ],
      "metadata": {
        "colab": {
          "base_uri": "https://localhost:8080/"
        },
        "id": "3Ptu4DxP4m59",
        "outputId": "da7eeae2-ad64-47dd-ffd3-d8cbd097f568"
      },
      "execution_count": 4,
      "outputs": [
        {
          "output_type": "stream",
          "name": "stdout",
          "text": [
            "240000\n"
          ]
        }
      ]
    },
    {
      "cell_type": "code",
      "source": [
        "#Write a Python program to find the largest number from a list using loop.\n",
        "#Input:- [10,100,2321, 1,200,2]\n",
        "#Output:- 2321\n",
        "\n",
        "my_list = [10, 100, 2321, 1, 200, 2]\n",
        "max_value = my_list[0]\n",
        "for i in my_list:\n",
        "  if max_value < i:\n",
        "    max_value = i\n",
        "print(max_value)    \n",
        "\n",
        "\n"
      ],
      "metadata": {
        "colab": {
          "base_uri": "https://localhost:8080/"
        },
        "id": "mSx6HG544m-b",
        "outputId": "dcef4b4e-fe45-4737-cd51-547245550726"
      },
      "execution_count": 6,
      "outputs": [
        {
          "output_type": "stream",
          "name": "stdout",
          "text": [
            "2321\n"
          ]
        }
      ]
    },
    {
      "cell_type": "code",
      "source": [
        "#Write a Python program to find the smallest number from a list using loop.\n",
        "#Input:- [10,100,2321, 1,200,2]\n",
        "#Output:- 1\n",
        "\n",
        "my_list= [10,100,2321,1,200,2]\n",
        "min_value = my_list[0]\n",
        "for i in my_list:\n",
        "  if min_value > i:\n",
        "    min_value = i\n",
        "print(min_value)    \n"
      ],
      "metadata": {
        "colab": {
          "base_uri": "https://localhost:8080/"
        },
        "id": "ZATeSHdl4zoi",
        "outputId": "60579064-9b64-4ae9-cd32-0ddf2cc32235"
      },
      "execution_count": 7,
      "outputs": [
        {
          "output_type": "stream",
          "name": "stdout",
          "text": [
            "1\n"
          ]
        }
      ]
    },
    {
      "cell_type": "code",
      "source": [
        "#Write a Python program to count the number of strings having length more than 2 and are palindrome in a list using loop.\n",
        "#Input:- ['ab', 'abc', 'aba', 'xyz', '1991']\n",
        "#Output:- 2\n",
        "\n",
        "my_list = ['ab', 'abc', 'aba', 'xyz', '1991']\n",
        "count = 0\n",
        "for element in my_list:\n",
        "  rev_element= ''\n",
        "  for i in range(0,len(element)):\n",
        "    rev_element += element[len(element)-1-i]\n",
        "  if rev_element == element:\n",
        "   count += 1   \n",
        "print(count)"
      ],
      "metadata": {
        "colab": {
          "base_uri": "https://localhost:8080/"
        },
        "id": "jqEiDN-C4zqg",
        "outputId": "699567f3-7265-4fb7-8571-434ebc16d7c0"
      },
      "execution_count": 17,
      "outputs": [
        {
          "output_type": "stream",
          "name": "stdout",
          "text": [
            "2\n"
          ]
        }
      ]
    },
    {
      "cell_type": "code",
      "source": [
        "#Write a Python program to sort a list in ascending order using loop.\n",
        "#Input:- [100,10,1,298,65,483,49876,2,80,9,9213]\n",
        "#Output:- [1,2,9,10,65,80,100,298,483,9213,49876]\n",
        "\n",
        "my_list = [100,10,1,298,65,483,49876,2,80,9,9213]\n",
        "sorted_list = sorted(my_list)\n",
        "print(sorted_list)"
      ],
      "metadata": {
        "colab": {
          "base_uri": "https://localhost:8080/"
        },
        "id": "qMUU3fL64zuW",
        "outputId": "7e35ead2-fa39-46ab-f8c6-c22bc7c4224b"
      },
      "execution_count": 19,
      "outputs": [
        {
          "output_type": "stream",
          "name": "stdout",
          "text": [
            "[1, 2, 9, 10, 65, 80, 100, 298, 483, 9213, 49876]\n"
          ]
        }
      ]
    },
    {
      "cell_type": "code",
      "source": [
        "#Write a Python program to get a sorted list in increasing order of last element in each tuple in a given list using loop.\n",
        "#Input:- [(5,4),(9,1),(2,3),(5,9),(7,6),(5,5)]\n",
        "#output:- [(9,1),(2,3),(5,4),(5,5),(7,6),(5,9)]\n",
        "\n",
        "my_list = [(5,4),(9,1),(2,3),(5,9),(7,6),(5,5)]\n",
        "#sorted_list = sorted(my_list)\n",
        "#print(sorted_list)\n",
        "##>>[(2, 3), (5, 4), (5, 5), (5, 9), (7, 6), (9, 1)]\n",
        "output=[]\n",
        "inp = [(5,4),(9,1),(2,3),(5,9),(7,6),(5,5)] \n",
        "while len(inp)!=0:\n",
        "    ele = inp[0]\n",
        "    for i in range(len(inp)):\n",
        "           if ele[1] > inp[i][1]: \n",
        "                ele = inp[i]\n",
        "    output.append(inp.pop(inp.index(ele)))     \n",
        "print(output)\n",
        "    \n"
      ],
      "metadata": {
        "colab": {
          "base_uri": "https://localhost:8080/"
        },
        "id": "oUcM-L1F49PV",
        "outputId": "a5d5c23b-f00c-4e58-c01d-aab4fd06a18f"
      },
      "execution_count": 67,
      "outputs": [
        {
          "output_type": "stream",
          "name": "stdout",
          "text": [
            "[(9, 1), (2, 3), (5, 4), (5, 5), (7, 6), (5, 9)]\n"
          ]
        }
      ]
    },
    {
      "cell_type": "code",
      "source": [
        "#Write a Python program to remove duplicate element from a list using loop.\n",
        "#Input:- [10,1,11,1,29,876,768,10,11,1,92,29,876]\n",
        "#Output:- [10,1,11,29,876,768,92]\n",
        "\n",
        "my_list = [10,1,11,1,29,876,768,10,11,1,92,29,876]\n",
        "without_duplicates= set(my_list)\n",
        "print(without_duplicates)"
      ],
      "metadata": {
        "colab": {
          "base_uri": "https://localhost:8080/"
        },
        "id": "jxkVBjEp49RY",
        "outputId": "4fab2083-0fa7-4e7d-a0b7-85f380897f50"
      },
      "execution_count": 26,
      "outputs": [
        {
          "output_type": "stream",
          "name": "stdout",
          "text": [
            "{768, 1, 10, 11, 876, 92, 29}\n"
          ]
        }
      ]
    },
    {
      "cell_type": "code",
      "source": [
        "#Write a Python program to check a list is empty or not?\n",
        "#Input:- []\n",
        "#Output:- List is empty\n",
        "#Input:- [10,20,30]\n",
        "#Output:- List is not empty\n",
        "\n",
        "my_list = []\n",
        "if len(my_list ) <= 0:\n",
        "  print('List is empty')\n",
        "else: print('List is not empty')  "
      ],
      "metadata": {
        "colab": {
          "base_uri": "https://localhost:8080/"
        },
        "id": "-3UT3aCk49VV",
        "outputId": "ef165d99-1ec9-4a43-d0d9-afded4ff3ec5"
      },
      "execution_count": 38,
      "outputs": [
        {
          "output_type": "stream",
          "name": "stdout",
          "text": [
            "List is empty\n"
          ]
        }
      ]
    },
    {
      "cell_type": "code",
      "source": [
        "#Write a Python program to copy a list using loop.\n",
        "#inp_lst = [10,10.20,10+20j, 'Python', [10,20], (10,20)]\n",
        "#out_lst = [10,10.20,10+20j, 'Python', [10,20], (10,20)]\n",
        "\n",
        "inp_lst = [10,10.20,10+20j, 'Python', [10,20], (10,20)]\n",
        "out_lst = []\n",
        "for i in range(len(inp_lst)):\n",
        "  out_lst.append(inp_lst[i])\n",
        "print(out_lst)  "
      ],
      "metadata": {
        "colab": {
          "base_uri": "https://localhost:8080/"
        },
        "id": "7KO4BSmx5JjL",
        "outputId": "ba16f6f7-de68-4b30-dc6a-03ae71e5cb14"
      },
      "execution_count": 40,
      "outputs": [
        {
          "output_type": "stream",
          "name": "stdout",
          "text": [
            "[10, 10.2, (10+20j), 'Python', [10, 20], (10, 20)]\n"
          ]
        }
      ]
    },
    {
      "cell_type": "code",
      "source": [
        "#Write a Python program to find the list of words that are longer than or equal to 4 from a given string.\n",
        "#Input:- 'How much wood would a woodchuck chuck if a woodchuck could chuck wood'\n",
        "#Output:- ['much', 'wood', 'would', 'woodchuck', 'chuck', 'could']\n",
        "#Note:- Duplicate should be avoided.\n",
        "in_str = 'How much wood would a woodchuck chuck if a woodchuck could chuck wood' \n",
        "in_lst = in_str.split(' ')\n",
        "out_lst = []\n",
        "for i in in_lst:\n",
        "  if len(i) >= 4:\n",
        "    out_lst.append(i)\n",
        "\n",
        "print(list(frozenset(out_lst)))    "
      ],
      "metadata": {
        "colab": {
          "base_uri": "https://localhost:8080/"
        },
        "id": "D2rDLSBC5JmD",
        "outputId": "c2ff3183-706c-439d-dd8a-8728fa4f4413"
      },
      "execution_count": 45,
      "outputs": [
        {
          "output_type": "stream",
          "name": "stdout",
          "text": [
            "['chuck', 'would', 'much', 'woodchuck', 'could', 'wood']\n"
          ]
        }
      ]
    },
    {
      "cell_type": "code",
      "source": [
        "#Write a Python program which takes two list as input and returns True if they have at least 3 common elements.\n",
        "#inp_lst1 = [10,20,'Python', 10.20, 10+20j, [10,20,30], (10,20,30)]\n",
        "#inp_lst2 = [(10,20,30),1,20+3j,100.2, 10+20j, [10,20,30],'Python']\n",
        "#Output:- True\n",
        "\n",
        "inp_lst1 = [10,20,'Python', 10.20, 10+20j, [10,20,30], (10,20,30)]\n",
        "inp_lst2 = [(10,20,30),1,20+3j,100.2, 10+20j, [10,20,30],'Python']\n",
        "count= 0\n",
        "for i in inp_lst1:\n",
        "  if i in inp_lst2:\n",
        "    count +=1\n",
        "if count >= 3: print('True')\n",
        "else: print('False')"
      ],
      "metadata": {
        "colab": {
          "base_uri": "https://localhost:8080/"
        },
        "id": "64ldPlFW5P-_",
        "outputId": "45c06746-1c49-455e-ca06-b802a5624a04"
      },
      "execution_count": 48,
      "outputs": [
        {
          "output_type": "stream",
          "name": "stdout",
          "text": [
            "True\n"
          ]
        }
      ]
    },
    {
      "cell_type": "code",
      "source": [
        "#Write a Python program to create a 4X4 2D matrix with below elements using loop and list comprehension both.\n",
        "#Output:- [[0,0,0,0],[0,1,2,3],[0,2,4,6],[0,3,6,9]]\n",
        "\n",
        "#using loops\n",
        "lst = []\n",
        "\n",
        "for i in range(4):\n",
        "  lst.append([])\n",
        "  for j in range(4):\n",
        "    lst[i].append(i*j)\n",
        "\n",
        "print(lst)\n",
        "\n",
        "#using list comprehension\n",
        "lst = [[i*j for j in range(4)]for i in range(4)]\n",
        "print(lst)"
      ],
      "metadata": {
        "colab": {
          "base_uri": "https://localhost:8080/"
        },
        "id": "lonL7aKK5QBH",
        "outputId": "3daea702-c952-4cdb-b366-2eae2cf35ad6"
      },
      "execution_count": 77,
      "outputs": [
        {
          "output_type": "stream",
          "name": "stdout",
          "text": [
            "[[0, 0, 0, 0], [0, 1, 2, 3], [0, 2, 4, 6], [0, 3, 6, 9]]\n",
            "[[0, 0, 0, 0], [0, 1, 2, 3], [0, 2, 4, 6], [0, 3, 6, 9]]\n"
          ]
        }
      ]
    },
    {
      "cell_type": "code",
      "source": [
        "#Write a Python program to create a 3X4X6 3D matrix wiith below elements using loop\n",
        "#Output:- \n",
        "# [\n",
        "#     [[0,0,0,0,0,0],[0,0,0,0,0,0],[0,0,0,0,0,0],[0,0,0,0,0,0]],\n",
        "#     [[0,0,0,0,0,0],[1,1,1,1,1,1],[2,2,2,2,2,2],[3,3,3,3,3,3]],\n",
        "#     [[0,0,0,0,0,0],[2,2,2,2,2,2],[4,4,4,4,4,4],[6,6,6,6,6,6]]\n",
        "# ]\n",
        "\n",
        "\n",
        "# using loops\n",
        "ls = []\n",
        "for i in range(3):\n",
        "    ls.append([])\n",
        "    for j in range(4):\n",
        "        ls[i].append([])\n",
        "        for k in range(6):\n",
        "            if i == 0: \n",
        "                ls[i][j].append(i)\n",
        "            elif i == 1:\n",
        "                ls[i][j].append(j)\n",
        "            elif i ==2:\n",
        "                ls[i][j].append(j*2)\n",
        "print(ls)\n",
        "\n",
        "#using list comprehension:\n",
        "ls =[[[i if i == 0 else j if i == 1 else j*2  for k in range(6)]for j in range(4)]for i in range(3)]\n",
        "ls"
      ],
      "metadata": {
        "colab": {
          "base_uri": "https://localhost:8080/"
        },
        "id": "7vTSFMDZ5QE2",
        "outputId": "24f764a8-9632-42a4-ea17-b2804fdad889"
      },
      "execution_count": 78,
      "outputs": [
        {
          "output_type": "stream",
          "name": "stdout",
          "text": [
            "[[[0, 0, 0, 0, 0, 0], [0, 0, 0, 0, 0, 0], [0, 0, 0, 0, 0, 0], [0, 0, 0, 0, 0, 0]], [[0, 0, 0, 0, 0, 0], [1, 1, 1, 1, 1, 1], [2, 2, 2, 2, 2, 2], [3, 3, 3, 3, 3, 3]], [[0, 0, 0, 0, 0, 0], [2, 2, 2, 2, 2, 2], [4, 4, 4, 4, 4, 4], [6, 6, 6, 6, 6, 6]]]\n"
          ]
        },
        {
          "output_type": "execute_result",
          "data": {
            "text/plain": [
              "[[[0, 0, 0, 0, 0, 0],\n",
              "  [0, 0, 0, 0, 0, 0],\n",
              "  [0, 0, 0, 0, 0, 0],\n",
              "  [0, 0, 0, 0, 0, 0]],\n",
              " [[0, 0, 0, 0, 0, 0],\n",
              "  [1, 1, 1, 1, 1, 1],\n",
              "  [2, 2, 2, 2, 2, 2],\n",
              "  [3, 3, 3, 3, 3, 3]],\n",
              " [[0, 0, 0, 0, 0, 0],\n",
              "  [2, 2, 2, 2, 2, 2],\n",
              "  [4, 4, 4, 4, 4, 4],\n",
              "  [6, 6, 6, 6, 6, 6]]]"
            ]
          },
          "metadata": {},
          "execution_count": 78
        }
      ]
    },
    {
      "cell_type": "code",
      "source": [
        "#Write a Python program which takes a list of numbers as input and prints a new list after removing even numbers from it.\n",
        "#Input:- [10,21,22,98,87,45,33,1,2,100]\n",
        "#Output:- [21,87,45,33,1]\n",
        "\n",
        "my_list = [10,21,22,98,87,45,33,1,2,100]\n",
        "out_list = [x for x in my_list if x%2 != 0]\n",
        "print(out_list)"
      ],
      "metadata": {
        "colab": {
          "base_uri": "https://localhost:8080/"
        },
        "id": "vRmvWhBX5Xua",
        "outputId": "bc20a72c-8c9d-40a4-a38e-4d6ba53977bb"
      },
      "execution_count": 50,
      "outputs": [
        {
          "output_type": "stream",
          "name": "stdout",
          "text": [
            "[21, 87, 45, 33, 1]\n"
          ]
        }
      ]
    },
    {
      "cell_type": "code",
      "source": [
        "#Write a Python program which takes a list from the user and prints it after reshuffling the elements of the list.\n",
        "#Input:- [10,21,22,98,87,45,33,1,2,100]\n",
        "#Output:- [1,87,21,10,33,2,100,45,98,22] (It may be any randon list but with same elements)\n",
        "\n",
        "import random\n",
        "\n",
        "in_list = [10,21,22,98,87,45,33,1,2,100]\n",
        "random.shuffle(in_list)\n",
        "print(in_list)"
      ],
      "metadata": {
        "colab": {
          "base_uri": "https://localhost:8080/"
        },
        "id": "iW1SemeX5XxU",
        "outputId": "a7c29456-c177-40e0-a7a8-a210ff867014"
      },
      "execution_count": 56,
      "outputs": [
        {
          "output_type": "stream",
          "name": "stdout",
          "text": [
            "[22, 1, 100, 21, 10, 98, 2, 45, 33, 87]\n"
          ]
        }
      ]
    },
    {
      "cell_type": "code",
      "source": [],
      "metadata": {
        "id": "Nu9eB-X1nHfb"
      },
      "execution_count": null,
      "outputs": []
    }
  ]
}