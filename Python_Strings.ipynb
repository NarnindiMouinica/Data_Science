{
  "nbformat": 4,
  "nbformat_minor": 0,
  "metadata": {
    "colab": {
      "provenance": [],
      "authorship_tag": "ABX9TyOaL/eN52B4CyPXo1GxHl0k",
      "include_colab_link": true
    },
    "kernelspec": {
      "name": "python3",
      "display_name": "Python 3"
    },
    "language_info": {
      "name": "python"
    }
  },
  "cells": [
    {
      "cell_type": "markdown",
      "metadata": {
        "id": "view-in-github",
        "colab_type": "text"
      },
      "source": [
        "<a href=\"https://colab.research.google.com/github/NarnindiMounica/Data_Science/blob/main/Python_Strings.ipynb\" target=\"_parent\"><img src=\"https://colab.research.google.com/assets/colab-badge.svg\" alt=\"Open In Colab\"/></a>"
      ]
    },
    {
      "cell_type": "code",
      "execution_count": 1,
      "metadata": {
        "colab": {
          "base_uri": "https://localhost:8080/"
        },
        "id": "kZKkPYKU29IR",
        "outputId": "cce03f5c-630c-49f5-91cd-90b8c73f6eda"
      },
      "outputs": [
        {
          "output_type": "stream",
          "name": "stdout",
          "text": [
            "<class 'str'>\n",
            "140586269325296\n"
          ]
        }
      ],
      "source": [
        "#Declare a string and store it in a variable. \n",
        "string = 'Python'\n",
        "\n",
        "\n",
        "\n",
        "#Check the type and print the id of the same.\n",
        "print(type(string))\n",
        "print(id(string))\n"
      ]
    },
    {
      "cell_type": "code",
      "source": [
        "#Write the code to get the output mentioned below print statement\n",
        "my_str = \"Although that way may not be obvious at first unless you're Dutch.\"\n",
        "my_str1 = \"Although that way may not be obvious at first unless you're Dutch.\"\n",
        "\n",
        "print('The Length of my_str is',len(my_str))\n",
        "#output:- The length of my_str is 66\n",
        "\n",
        "print('id of my_str and my_str1 is same?', id(my_str) is id(my_str1))\n",
        "#output:- id of my_str and my_str1 is same? - False\n",
        "\n",
        "print('Type of my_str is:', type(my_str))\n",
        "#output:- Type of my_str is: str"
      ],
      "metadata": {
        "colab": {
          "base_uri": "https://localhost:8080/"
        },
        "id": "_e8okHEZ3x31",
        "outputId": "599daae5-594e-4942-b3d9-c8e2b52c5614"
      },
      "execution_count": 2,
      "outputs": [
        {
          "output_type": "stream",
          "name": "stdout",
          "text": [
            "The Length of my_str is 66\n",
            "id of my_str and my_str1 is same? False\n",
            "Type of my_str is: <class 'str'>\n"
          ]
        }
      ]
    },
    {
      "cell_type": "code",
      "source": [
        "#Indexing\n",
        "my_str = \"Although 8 that way may not be obvious at first unless you're Dutch\"\n",
        "#Write the code to get the output,instructions are mentioned below print statement. use indexing\n",
        "\n",
        "print('The first character in my_str is:', my_str[0])\n",
        "#output:- The first character in my_str is: A\n",
        "#Note:- Use positive indexing\n",
        "\n",
        "print('the first character in my_str is :', my_str[-len(my_str)])\n",
        "#output:- The first character in my_str is: A\n",
        "#Note:- Use len() function.\n",
        "\n",
        "print('The character at index 10 in my_str is: ', my_str[10])\n",
        "#output:- The character at index 10 in my_str is: ' '\n",
        "#Note:- Use positive indexing\n",
        "\n",
        "print('The last character in my_str is: ', my_str[-1])\n",
        "#output:- The last character in my_str is: h\n",
        "#Note:- Use negative indexing.\n",
        "\n",
        "print('The last character in my_str is:', my_str[len(my_str)-1])\n",
        "#output:- The last character in my_str is: h\n",
        "#Note:- Use len() function. \n",
        "\n",
        "print('The character in my_str is :' ,my_str[9])\n",
        "#output:- The character in my_str is: 8\n",
        "#Note:- Use positive index"
      ],
      "metadata": {
        "colab": {
          "base_uri": "https://localhost:8080/"
        },
        "id": "KPHepuYb3x5z",
        "outputId": "a0c673ec-7034-4912-c064-80ca960c3792"
      },
      "execution_count": 4,
      "outputs": [
        {
          "output_type": "stream",
          "name": "stdout",
          "text": [
            "The first character in my_str is: A\n",
            "the first character in my_str is : A\n",
            "The character at index 10 in my_str is:   \n",
            "The last character in my_str is:  h\n",
            "The last character in my_str is: h\n",
            "The character in my_str is : 8\n"
          ]
        }
      ]
    },
    {
      "cell_type": "code",
      "source": [
        "#Slicing\n",
        "my_str = \"Although that way may not be obvious at first unless you're Dutch.\"\n",
        "#Write the code to get the output,instructions are mentioned below print statement. use slicing\n",
        "print(my_str[::])\n",
        "#output:- You have sliced: Although that way may not be obvious at first unless you're Dutch. Without begin, end and step\n",
        "\n",
        "\n",
        "print(my_str[0:len(my_str)])\n",
        "#output:- You have sliced: Although that way may not be obvious at first unless you're Dutch. with begin as 0 end using len and without step\n",
        "\n",
        "\n",
        "print(my_str[::1])\n",
        "#output:- You have sliced: Although that way may not be obvious at first unless you're Dutch. without begin and end but using step\n",
        "\n",
        "\n",
        "print(my_str[0:len(my_str):1])\n",
        "#output:- You have sliced: Although that way may not be obvious at first unless you're Dutch.With begin, end and step\n",
        "\n",
        "\n",
        "print(my_str[0:len(my_str):-1])\n",
        "#output:- You have sliced:   with using begin and end using postive values and step as negative values.\n",
        "#Slicing command should print empty string.\n",
        "\n",
        "\n",
        "print(my_str[::2])\n",
        "#output:- You have sliced: Atog htwymyntb biu tfrtuls o'eDth\n",
        "\n",
        "\n",
        "print(my_str[::3])\n",
        "#output:- You have sliced: Ahgttam tebo  r lsorDc\n",
        "\n",
        "\n",
        "print(my_str[::-1])\n",
        "#output:- You have sliced: .hctuD er'uoy sselnu tsrif ta suoivbo eb ton yam yaw taht hguohtlA. Use only step\n",
        "\n",
        "\n",
        "print(my_str[len(my_str)::-1])\n",
        "#output:- You have sliced: .hctuD er'uoy sselnu tsrif ta suoivbo eb ton yam yaw taht hguohtlA. Use begin end and step.\n",
        "\n",
        "\n",
        "print(my_str[::-2])\n",
        "#output:- You have sliced: .cu ruysen si asovoe o a a athuhl. use only step\n",
        "\n",
        "\n",
        "print(my_str[len(my_str):0:-2])\n",
        "#output:- You have sliced: .cu ruysen si asovoe o a a athuhl. use begin, end and step.\n",
        "\n",
        "\n",
        "print(my_str[10:17:-1])\n",
        "#What will be the output? ##empyt line\n",
        "\n",
        "\n",
        "print(my_str[16:10:-1])\n",
        "#output:- You have sliced: yaw ta, Using begin, end and step.\n",
        "\n",
        "print(my_str[-17:-10])\n",
        "#output:- You have sliced: ess you. Using begin, end and step.\n"
      ],
      "metadata": {
        "colab": {
          "base_uri": "https://localhost:8080/"
        },
        "id": "lkkkyuTD3x9c",
        "outputId": "0690ec17-798a-41bd-e4b6-0b8ef18abdeb"
      },
      "execution_count": 5,
      "outputs": [
        {
          "output_type": "stream",
          "name": "stdout",
          "text": [
            "Although that way may not be obvious at first unless you're Dutch.\n",
            "Although that way may not be obvious at first unless you're Dutch.\n",
            "Although that way may not be obvious at first unless you're Dutch.\n",
            "Although that way may not be obvious at first unless you're Dutch.\n",
            "\n",
            "Atog htwymyntb biu tfrtuls o'eDth\n",
            "Ahgttam tebo  r lsorDc\n",
            ".hctuD er'uoy sselnu tsrif ta suoivbo eb ton yam yaw taht hguohtlA\n",
            ".hctuD er'uoy sselnu tsrif ta suoivbo eb ton yam yaw taht hguohtlA\n",
            ".cu ruysen si asovoe o a a athuhl\n",
            ".cu ruysen si asovoe o a a athuhl\n",
            "\n",
            "yaw ta\n",
            "ess you\n"
          ]
        }
      ]
    },
    {
      "cell_type": "code",
      "source": [
        "#Basic operation on string\n",
        "str1 = 'Course'\n",
        "str2 = 'Python'\n",
        "\n",
        "#Write the code to get the output,instructions are mentioned below.\n",
        "#Output is: Course Python\n",
        "print(str1+' '+str2)\n",
        "\n",
        "#Error: TypeError: can only concatenate str (not \"int\") to str\n",
        "print(str1 + 2)\n",
        "\n",
        "#Error: TypeError: can only concatenate str (not \"float\") to str\n",
        "\n",
        "print(str1 +2.0)\n",
        "\n",
        "#Find below Output\n",
        "#Output is: PythonPythonPython\n",
        "print(str2*3)\n",
        "\n",
        "print(str2 * 2.3)\n",
        "#Error: TypeError: can't multiply sequence by non-int of type 'float'\n",
        "\n",
        "print(str1 * str2)\n",
        "#Error: TypeError: can't multiply sequence by non-int of type 'str'\n"
      ],
      "metadata": {
        "colab": {
          "base_uri": "https://localhost:8080/",
          "height": 252
        },
        "id": "I3cuEBHw3x_N",
        "outputId": "8996a955-8915-46ff-e4ae-6ce8a1395403"
      },
      "execution_count": 6,
      "outputs": [
        {
          "output_type": "stream",
          "name": "stdout",
          "text": [
            "Course Python\n"
          ]
        },
        {
          "output_type": "error",
          "ename": "TypeError",
          "evalue": "ignored",
          "traceback": [
            "\u001b[0;31m---------------------------------------------------------------------------\u001b[0m",
            "\u001b[0;31mTypeError\u001b[0m                                 Traceback (most recent call last)",
            "\u001b[0;32m<ipython-input-6-2e5cfc1f218c>\u001b[0m in \u001b[0;36m<module>\u001b[0;34m\u001b[0m\n\u001b[1;32m      8\u001b[0m \u001b[0;34m\u001b[0m\u001b[0m\n\u001b[1;32m      9\u001b[0m \u001b[0;31m#Error: TypeError: can only concatenate str (not \"int\") to str\u001b[0m\u001b[0;34m\u001b[0m\u001b[0;34m\u001b[0m\u001b[0;34m\u001b[0m\u001b[0m\n\u001b[0;32m---> 10\u001b[0;31m \u001b[0mprint\u001b[0m\u001b[0;34m(\u001b[0m\u001b[0mstr1\u001b[0m \u001b[0;34m+\u001b[0m \u001b[0;36m2\u001b[0m\u001b[0;34m)\u001b[0m\u001b[0;34m\u001b[0m\u001b[0;34m\u001b[0m\u001b[0m\n\u001b[0m\u001b[1;32m     11\u001b[0m \u001b[0;34m\u001b[0m\u001b[0m\n\u001b[1;32m     12\u001b[0m \u001b[0;31m#Error: TypeError: can only concatenate str (not \"float\") to str\u001b[0m\u001b[0;34m\u001b[0m\u001b[0;34m\u001b[0m\u001b[0;34m\u001b[0m\u001b[0m\n",
            "\u001b[0;31mTypeError\u001b[0m: can only concatenate str (not \"int\") to str"
          ]
        }
      ]
    },
    {
      "cell_type": "code",
      "source": [
        "#Find below Output\n",
        "str1 = 'Python'\n",
        "str2 = 'Python'\n",
        "str3 = 'Python$'\n",
        "str4 = 'Python$'\n",
        "\n",
        "#print True by using identity operator between str1 and str2\n",
        "print(str1 is str2)\n",
        "\n",
        "#print False by using identity operator between str1 and str3\n",
        "print(str1 is str3)\n",
        "\n",
        "#print False by using identity operator between str4 and str3\n",
        "print(str4 is str3)\n",
        "\n",
        "#Check if P is available in str1 and print True by using membership operator\n",
        "print('P' in str1)\n",
        "\n",
        "#Check if $ is available in str3 and print True by using membership operator\n",
        "print('$' in str3)\n",
        "\n",
        "#Check if N is available in str3 and print False by using membership operator\n",
        "print('N' in str3)\n"
      ],
      "metadata": {
        "colab": {
          "base_uri": "https://localhost:8080/"
        },
        "id": "1b86SdDy3yCv",
        "outputId": "9ed0d4f2-30bb-44aa-e7a9-f6dfc7cc0682"
      },
      "execution_count": 7,
      "outputs": [
        {
          "output_type": "stream",
          "name": "stdout",
          "text": [
            "True\n",
            "False\n",
            "False\n",
            "True\n",
            "True\n",
            "False\n"
          ]
        }
      ]
    },
    {
      "cell_type": "code",
      "source": [
        "#Complete the below code\n",
        "str1 = 'This is Python class'\n",
        "#write the code to replace 'Python' with 'Java' and you should get below error.\n",
        "#TypeError: 'str' object does not support item assignment.\n",
        "\n",
        "# if 'Python' in str1:\n",
        "#      str1.replace('Python', 'Java')"
      ],
      "metadata": {
        "id": "eqvXcLNy3yEg"
      },
      "execution_count": null,
      "outputs": []
    },
    {
      "cell_type": "code",
      "source": [
        "str1 = 'A'\n",
        "str2 = 'A'\n",
        "#Compare str1 and str2 and print True using comparison operator\n",
        "\n",
        "\n",
        "#Compare str1 and str2 and print True using equality operator\n",
        "print(str1 == str2)\n",
        "\n",
        "#Compare str1 and str2 and print False using equality operator\n",
        "print(str1 != str2)\n",
        "\n",
        "#Compare str1 and str2 and print False using comparison operator\n",
        "print(str1 > str2)"
      ],
      "metadata": {
        "colab": {
          "base_uri": "https://localhost:8080/"
        },
        "id": "tWWu3JTK3yIw",
        "outputId": "7d42d611-afdc-4637-9c6a-7e758b1c882d"
      },
      "execution_count": 8,
      "outputs": [
        {
          "output_type": "stream",
          "name": "stdout",
          "text": [
            "True\n",
            "False\n",
            "False\n"
          ]
        }
      ]
    },
    {
      "cell_type": "code",
      "source": [
        "str1 = 'A'\n",
        "str2 = 'a'\n",
        "#Compare str1 and str2 and print True using comparison operator\n",
        "print(str2 > str1)\n",
        "\n",
        "#Compare str1 and str2 and print True using equality operator\n",
        "print(str1 == str2.upper())\n",
        "\n",
        "#Compare str1 and str2 and print False using equality operator\n",
        "print(str1 == str2)\n",
        "\n",
        "#Compare str1 and str2 and print False using comparison operator\n",
        "print(str1 > str2)\n"
      ],
      "metadata": {
        "colab": {
          "base_uri": "https://localhost:8080/"
        },
        "id": "xN2HaxXz3yLg",
        "outputId": "8d7baebc-00b9-4e5d-fc31-920e676dcd34"
      },
      "execution_count": 9,
      "outputs": [
        {
          "output_type": "stream",
          "name": "stdout",
          "text": [
            "True\n",
            "True\n",
            "False\n",
            "False\n"
          ]
        }
      ]
    },
    {
      "cell_type": "code",
      "source": [
        "str1 = 'A'\n",
        "str2 = '65'\n",
        "#Compare str1 and str2 using comparison operator and it should give below error.\n",
        "#Error: TypeError: '>=' not supported between instances of 'str' and 'int'\n",
        "print(ord(str1) >= str2)\n",
        "\n",
        "#Compare str1 and str2 and print True using equality operator\n",
        "print(ord(str1) == int(str2))\n",
        "\n",
        "#Compare str1 and str2 and print False using equality operator\n",
        "\n",
        "print(ord(str1) == str2)"
      ],
      "metadata": {
        "colab": {
          "base_uri": "https://localhost:8080/",
          "height": 235
        },
        "id": "x-_wo_9l4fn3",
        "outputId": "5ada7e2e-a187-4a8a-ea47-c601c0023846"
      },
      "execution_count": 10,
      "outputs": [
        {
          "output_type": "error",
          "ename": "TypeError",
          "evalue": "ignored",
          "traceback": [
            "\u001b[0;31m---------------------------------------------------------------------------\u001b[0m",
            "\u001b[0;31mTypeError\u001b[0m                                 Traceback (most recent call last)",
            "\u001b[0;32m<ipython-input-10-a06a27cd3a5a>\u001b[0m in \u001b[0;36m<module>\u001b[0;34m\u001b[0m\n\u001b[1;32m      3\u001b[0m \u001b[0;31m#Compare str1 and str2 using comparison operator and it should give below error.\u001b[0m\u001b[0;34m\u001b[0m\u001b[0;34m\u001b[0m\u001b[0;34m\u001b[0m\u001b[0m\n\u001b[1;32m      4\u001b[0m \u001b[0;31m#Error: TypeError: '>=' not supported between instances of 'str' and 'int'\u001b[0m\u001b[0;34m\u001b[0m\u001b[0;34m\u001b[0m\u001b[0;34m\u001b[0m\u001b[0m\n\u001b[0;32m----> 5\u001b[0;31m \u001b[0mprint\u001b[0m\u001b[0;34m(\u001b[0m\u001b[0mord\u001b[0m\u001b[0;34m(\u001b[0m\u001b[0mstr1\u001b[0m\u001b[0;34m)\u001b[0m \u001b[0;34m>=\u001b[0m \u001b[0mstr2\u001b[0m\u001b[0;34m)\u001b[0m\u001b[0;34m\u001b[0m\u001b[0;34m\u001b[0m\u001b[0m\n\u001b[0m\u001b[1;32m      6\u001b[0m \u001b[0;34m\u001b[0m\u001b[0m\n\u001b[1;32m      7\u001b[0m \u001b[0;31m#Compare str1 and str2 and print True using equality operator\u001b[0m\u001b[0;34m\u001b[0m\u001b[0;34m\u001b[0m\u001b[0;34m\u001b[0m\u001b[0m\n",
            "\u001b[0;31mTypeError\u001b[0m: '>=' not supported between instances of 'int' and 'str'"
          ]
        }
      ]
    },
    {
      "cell_type": "code",
      "source": [
        "str1 = 'Python'\n",
        "str2 = 'Python'\n",
        "#Compare str1 and str2 and print True using comparison operator\n",
        "print(str1.lower() >= str2)\n",
        "\n",
        "#Compare str1 and str2 and print True using equality operator\n",
        "print(str1 == str2)\n",
        "\n",
        "#Compare str1 and str2 and print False using equality operator\n",
        "print(str1 != str2)\n",
        "\n",
        "#Compare str1 and str2 and print False using comparison operator\n",
        "\n",
        "print(str1 > str2)"
      ],
      "metadata": {
        "colab": {
          "base_uri": "https://localhost:8080/"
        },
        "id": "4wtjoGyP4fq2",
        "outputId": "eeaafaa9-c1e0-4312-eeb4-149709629bdb"
      },
      "execution_count": 11,
      "outputs": [
        {
          "output_type": "stream",
          "name": "stdout",
          "text": [
            "True\n",
            "True\n",
            "False\n",
            "False\n"
          ]
        }
      ]
    },
    {
      "cell_type": "code",
      "source": [
        "str1 = 'Python'\n",
        "str2 = 'python'\n",
        "#Compare str1 and str2 and print True using comparison operator\n",
        "\n",
        "print(str2 >= str1)\n",
        "#Compare str1 and str2 and print True using equality operator\n",
        "print(str1.lower() == str2)\n",
        "\n",
        "#Compare str1 and str2 and print False using equality operator\n",
        "print(str1 == str2)\n",
        "\n",
        "#Compare str1 and str2 and print False using comparison operator\n",
        "\n",
        "print(str1 >= str2)"
      ],
      "metadata": {
        "colab": {
          "base_uri": "https://localhost:8080/"
        },
        "id": "VKe4e-c64fyL",
        "outputId": "5290c142-35dd-47d0-abe7-3d491c677873"
      },
      "execution_count": 12,
      "outputs": [
        {
          "output_type": "stream",
          "name": "stdout",
          "text": [
            "True\n",
            "True\n",
            "False\n",
            "False\n"
          ]
        }
      ]
    },
    {
      "cell_type": "code",
      "source": [
        "a = 'Python'\n",
        "b = ''\n",
        "\n",
        "#Apply logical operators (and, or & not) on above string values and observe the output.\n",
        "print(a and b)\n",
        "print(a or b)\n",
        "print()\n",
        "print(not a)\n",
        "print(not b)"
      ],
      "metadata": {
        "colab": {
          "base_uri": "https://localhost:8080/"
        },
        "id": "eIMkHj8t41Xw",
        "outputId": "701d5ba8-6746-4cda-926b-88beb327576a"
      },
      "execution_count": 13,
      "outputs": [
        {
          "output_type": "stream",
          "name": "stdout",
          "text": [
            "\n",
            "Python\n",
            "\n",
            "False\n",
            "True\n"
          ]
        }
      ]
    },
    {
      "cell_type": "code",
      "source": [
        "a = ''\n",
        "b = ''\n",
        "\n",
        "#Apply logical opereators (and, or & not) on above string values and observe the output.\n",
        "print(a and b)\n",
        "print(a or b)\n",
        "print(not a)"
      ],
      "metadata": {
        "colab": {
          "base_uri": "https://localhost:8080/"
        },
        "id": "n3Uva9Qd41Zq",
        "outputId": "0751b587-2e5a-40ca-c67f-add27c90044e"
      },
      "execution_count": 14,
      "outputs": [
        {
          "output_type": "stream",
          "name": "stdout",
          "text": [
            "\n",
            "\n",
            "True\n"
          ]
        }
      ]
    },
    {
      "cell_type": "code",
      "source": [
        "a = 'Python'\n",
        "b = 'Course'\n",
        "\n",
        "#Apply logical opereators (and, or & not) on above string values and observe the output.\n",
        "print(a and b)\n",
        "print(a or b)\n",
        "print(not a)"
      ],
      "metadata": {
        "colab": {
          "base_uri": "https://localhost:8080/"
        },
        "id": "tv4ElkW541dG",
        "outputId": "443841ab-bee6-4974-8e81-897c1a2d9440"
      },
      "execution_count": 15,
      "outputs": [
        {
          "output_type": "stream",
          "name": "stdout",
          "text": [
            "Course\n",
            "Python\n",
            "False\n"
          ]
        }
      ]
    },
    {
      "cell_type": "code",
      "source": [
        "my_str = \"Although 8 that way may not be obvious at first unless you're Dutch\"\n",
        "\n",
        "#Write the code to get the total count of 't' in above string. Use find() and index() method.\n",
        "print(my_str.find('t', 0, len(my_str)))\n",
        "print(my_str.index('t'))\n",
        "\n",
        "#Write the code to get the index of '8' in my_str. Use find() and index() method.\n",
        "print(my_str.find('8', 0, 12))\n",
        "print(my_str.index('8'))\n",
        "\n",
        "#What will be the output of below code?\n",
        "print(my_str.find('the'))\n",
        "\n",
        "\n",
        "#print(my_str.index('the'))-- this gives substring not found error\n",
        "\n",
        "\n",
        "print(my_str.find('t', 9, 15))\n",
        "\n",
        "\n",
        "print(my_str.rfind('u'))\n",
        "\n",
        "\n",
        "print(my_str.rindex('u'))\n"
      ],
      "metadata": {
        "colab": {
          "base_uri": "https://localhost:8080/"
        },
        "id": "WP_G9kie47HS",
        "outputId": "28aed418-8023-42a9-81c6-7a0146327583"
      },
      "execution_count": 18,
      "outputs": [
        {
          "output_type": "stream",
          "name": "stdout",
          "text": [
            "2\n",
            "2\n",
            "9\n",
            "9\n",
            "-1\n",
            "11\n",
            "63\n",
            "63\n"
          ]
        }
      ]
    },
    {
      "cell_type": "code",
      "source": [
        "#number of occurences of character 't' in given string\n",
        "my_str = \"Although 8 that way may not be obvious at first unless you're Dutch\"\n",
        "my_str.count('t') "
      ],
      "metadata": {
        "colab": {
          "base_uri": "https://localhost:8080/"
        },
        "id": "V2xdf492AO0W",
        "outputId": "9c3302aa-9922-4f3a-a51c-1317d221d084"
      },
      "execution_count": 20,
      "outputs": [
        {
          "output_type": "execute_result",
          "data": {
            "text/plain": [
              "7"
            ]
          },
          "metadata": {},
          "execution_count": 20
        }
      ]
    },
    {
      "cell_type": "code",
      "source": [
        "#W A P which applies strip() method if any string, which will be taken from user, starts and ends with space, or applies \n",
        "#rrstrip() method if that string only ends with space or applies lstrip() method if that string only starts with a space.\n",
        "\n",
        "#For example:-\n",
        "#input:- '    Python   '\n",
        "#output:- 'Python'\n",
        "\n",
        "#input:- '    Python'\n",
        "#output:- 'Python'\n",
        "\n",
        "#input:- 'Python   '\n",
        "#output:- 'Python'\n",
        "\n",
        "\n",
        "user_in = input('enter a string: ')\n",
        "if user_in.startswith(' ') and user_in[len(user_in)-1] != ' ' : print(user_in.lstrip())\n",
        "elif user_in.endswith(' ')and user_in[0] != ' ' : print(user_in.rstrip())\n",
        "elif user_in[0] == ' ' and user_in[len(user_in)-1] == ' ': print(user_in.strip())"
      ],
      "metadata": {
        "colab": {
          "base_uri": "https://localhost:8080/"
        },
        "id": "VgjxBgMT47Ji",
        "outputId": "53aaf340-3bd3-4584-c73c-485d7e28372b"
      },
      "execution_count": 21,
      "outputs": [
        {
          "output_type": "stream",
          "name": "stdout",
          "text": [
            "enter a string:  monica \n",
            "monica\n"
          ]
        }
      ]
    },
    {
      "cell_type": "code",
      "source": [
        "my_str = \"Although 8 that way may not be obvious at first unless you're Dutch\"\n",
        "\n",
        "#Write the code to convert all alphabets in my_str into upper case.\n",
        "print(my_str.upper())\n",
        "\n",
        "#Write the code to convert all alphabets in my_str into lower case.\n",
        "print(my_str.lower())\n",
        "\n",
        "#Write the code to swap the cases of all alphabets in my_str.(lower to upper and upper to lower)\n",
        "print(my_str.swapcase())\n"
      ],
      "metadata": {
        "colab": {
          "base_uri": "https://localhost:8080/"
        },
        "id": "yh4mXwW247NP",
        "outputId": "10e15ef9-641f-4ff9-b556-3a9cea6193d2"
      },
      "execution_count": 22,
      "outputs": [
        {
          "output_type": "stream",
          "name": "stdout",
          "text": [
            "ALTHOUGH 8 THAT WAY MAY NOT BE OBVIOUS AT FIRST UNLESS YOU'RE DUTCH\n",
            "although 8 that way may not be obvious at first unless you're dutch\n",
            "aLTHOUGH 8 THAT WAY MAY NOT BE OBVIOUS AT FIRST UNLESS YOU'RE dUTCH\n"
          ]
        }
      ]
    },
    {
      "cell_type": "code",
      "source": [
        "#Write the code which takes one string from user and if it starts with small case letter then convert it to corresponding \n",
        "#capital letter otherwise if starts with capital letters then convert first character of every word in that string into capital.\n",
        "out_str=''\n",
        "user_str = input('enter a string: ')\n",
        "\n",
        "for i in range(len(user_str)):\n",
        "    if user_str[0].isupper():\n",
        "        if i == 0:\n",
        "            out_str += user_str[0].upper()\n",
        "        elif user_str[i] == ' ':\n",
        "            out_str += user_str[i]+user_str[i+1].upper()\n",
        "        elif user_str[i-1] != ' ':\n",
        "            out_str += user_str[i].lower() \n",
        "    elif user_str[0].islower():\n",
        "        if i == 0:\n",
        "            out_str += user_str[0].upper()\n",
        "        elif user_str[i].islower():\n",
        "             out_str += user_str[i].upper()\n",
        "        elif user_str[i]==' ':\n",
        "            out_str += user_str[i]\n",
        "        elif user_str[i].isupper():\n",
        "            out_str += user_str[i]\n",
        "print(out_str)   \n"
      ],
      "metadata": {
        "colab": {
          "base_uri": "https://localhost:8080/"
        },
        "id": "k5AogaAT41f9",
        "outputId": "1035d6ae-1fc0-424a-ec09-0fe59c429a11"
      },
      "execution_count": 23,
      "outputs": [
        {
          "output_type": "stream",
          "name": "stdout",
          "text": [
            "enter a string: Mounica is studying python\n",
            "Mounica Is Studying Python\n"
          ]
        }
      ]
    },
    {
      "cell_type": "code",
      "source": [
        "#Take a string from user and check if it is:-\n",
        "#     1. alphanumeric\n",
        "#     2. alphabets\n",
        "#     3. digit\n",
        "#     4. all letters are in lower case\n",
        "#     5. all letters are in upper case\n",
        "#     6. in title case\n",
        "#     7. a space character\n",
        "#     8. numeric\n",
        "#     9. all number elements in string are decimal\n",
        "\n",
        "in_str = input('enter a string: ') \n",
        "\n",
        "if in_str.isdigit():\n",
        "    print('{} is digit'.format(in_str))\n",
        "elif in_str.isalpha():\n",
        "    if in_str.lower() == in_str:\n",
        "        print('all letters are in lower case')\n",
        "    elif in_str.upper() == in_str:\n",
        "        print('all letters are in upper case')\n",
        "    elif in_str.title() == in_str:\n",
        "        print('in title case')\n",
        "elif in_str.isalnum():\n",
        "    print('is alphanumeric')\n",
        "    \n",
        "   "
      ],
      "metadata": {
        "colab": {
          "base_uri": "https://localhost:8080/"
        },
        "id": "ol6JiwDk5OZL",
        "outputId": "80cd3b2c-3f81-403e-e914-640522c8d738"
      },
      "execution_count": 24,
      "outputs": [
        {
          "name": "stdout",
          "output_type": "stream",
          "text": [
            "enter a string: my dog is black in color\n"
          ]
        }
      ]
    },
    {
      "cell_type": "code",
      "source": [
        "#W A P which takes a string as an input and prints True if the string is valid identifier else returns False.\n",
        "#Sample Input:- 'abc', 'abc1', 'ab1c', '1abc', 'abc$', '_abc', 'if'\n",
        "in_str = input('enter a string: ')\n",
        "t = 0\n",
        "for i in range(len(in_str)):\n",
        "        if in_str[0].isdigit() or in_str[i].isspace():\n",
        "            print('False')\n",
        "            break\n",
        "        elif in_str[i].isalpha() or in_str[i].isdigit() or in_str[i] == \"_\":\n",
        "            t += 1\n",
        "        else:\n",
        "            print('False')\n",
        "            break\n",
        "if t == len(in_str): \n",
        "    print('True')"
      ],
      "metadata": {
        "colab": {
          "base_uri": "https://localhost:8080/"
        },
        "id": "DTlxstNM5OcI",
        "outputId": "74c61152-f191-44e9-8535-3804c988484d"
      },
      "execution_count": 25,
      "outputs": [
        {
          "output_type": "stream",
          "name": "stdout",
          "text": [
            "enter a string: abc\n",
            "True\n"
          ]
        }
      ]
    },
    {
      "cell_type": "code",
      "source": [
        "#What will be output of below code?\n",
        "s = chr(65) + chr(97)\n",
        "print(s.isprintable())\n",
        "\n",
        "s = chr(27) + chr(97)\n",
        "print(s.isprintable())\n",
        "\n",
        "s = '\\n'\n",
        "print(s.isprintable())\n",
        "\n",
        "s = ''\n",
        "print(s.isprintable())"
      ],
      "metadata": {
        "colab": {
          "base_uri": "https://localhost:8080/"
        },
        "id": "6zW7vNRJ5dG9",
        "outputId": "b684ae02-2ccf-4233-fffc-e603fd22aa44"
      },
      "execution_count": 26,
      "outputs": [
        {
          "output_type": "stream",
          "name": "stdout",
          "text": [
            "True\n",
            "False\n",
            "False\n",
            "True\n"
          ]
        }
      ]
    },
    {
      "cell_type": "code",
      "source": [
        "#What will be output of below code?\n",
        "my_string = '  '\n",
        "print(my_string.isascii())\n",
        "\n",
        "my_string = 'Studytonight'\n",
        "print(my_string.isascii())\n",
        "\n",
        "my_string = 'Study tonight'\n",
        "print(my_string.isascii())\n",
        "\n",
        "my_string = 'Studytonight@123'\n",
        "print(my_string.isascii())\n",
        "\n",
        "my_string = '°'\n",
        "print(my_string.isascii())\n",
        "\n",
        "my_string = 'ö'\n",
        "print(my_string.isascii())"
      ],
      "metadata": {
        "colab": {
          "base_uri": "https://localhost:8080/"
        },
        "id": "XHUFNszE5dJ8",
        "outputId": "fa2f26b9-21b2-462c-d178-c6ebf42b194b"
      },
      "execution_count": 27,
      "outputs": [
        {
          "output_type": "stream",
          "name": "stdout",
          "text": [
            "True\n",
            "True\n",
            "True\n",
            "True\n",
            "False\n",
            "False\n"
          ]
        }
      ]
    },
    {
      "cell_type": "code",
      "source": [
        "#What will be the output of below code?\n",
        "firstString = \"der Fluß\"\n",
        "secondString = \"der Fluss\"\n",
        "\n",
        "if firstString.casefold() == secondString.casefold():\n",
        "    print('The strings are equal.')\n",
        "else:\n",
        "    print('The strings are not equal.')"
      ],
      "metadata": {
        "colab": {
          "base_uri": "https://localhost:8080/"
        },
        "id": "S99kaH4J5Yd4",
        "outputId": "cf865a53-f818-467f-83f8-925b205072bb"
      },
      "execution_count": 28,
      "outputs": [
        {
          "output_type": "stream",
          "name": "stdout",
          "text": [
            "The strings are equal.\n"
          ]
        }
      ]
    },
    {
      "cell_type": "code",
      "source": [
        "#Write the code to get below output\n",
        "#O/P 1:- python** (using ljust method)\n",
        "\n",
        "\n",
        "#Write the code to get below output\n",
        "#O/P 1:- **python (using rjust method)\n",
        "\n",
        "\n",
        "#Write the code to get below output\n",
        "#O/P 1:- **python** (using rjust method)\n"
      ],
      "metadata": {
        "id": "IcnBAcSO5Yl7"
      },
      "execution_count": null,
      "outputs": []
    },
    {
      "cell_type": "code",
      "source": [
        "#Write a Python program to find the length of the my_str:-\n",
        "\n",
        "#Input:- 'Write a Python program to find the length of the my_str'\n",
        "#Output:- 55\n",
        "instr = input('enter a string: ')\n",
        "for i in range(len(instr)):\n",
        "    pass\n",
        "print(i+1)"
      ],
      "metadata": {
        "colab": {
          "base_uri": "https://localhost:8080/"
        },
        "id": "_U2eBvYr5tBu",
        "outputId": "ee134725-5cef-48cb-92dc-0264d66d3bef"
      },
      "execution_count": 29,
      "outputs": [
        {
          "output_type": "stream",
          "name": "stdout",
          "text": [
            "enter a string: Write a Python program to find the length of the my_str\n",
            "55\n"
          ]
        }
      ]
    },
    {
      "cell_type": "code",
      "source": [
        "#Write a Python program to find the total number of times letter 'p' is appeared in the below string:-\n",
        "    \n",
        "#Input:- 'peter piper picked a peck of pickled peppers.'\n",
        "#Output:- 9\n",
        "\n",
        "str1 = input('enter a string:')\n",
        "p_count = 0\n",
        "for x in str1:\n",
        "    if x == 'p':\n",
        "        p_count += 1\n",
        "print(p_count)   \n",
        "\n",
        "#direct method\n",
        "p_count = 'peter piper picked a peck of pickled peppers.'.count('p')\n",
        "print(p_count)"
      ],
      "metadata": {
        "colab": {
          "base_uri": "https://localhost:8080/"
        },
        "id": "Al1uvDpW5tO9",
        "outputId": "55600d9d-4dd3-4cfc-9fa5-f1ba8f83b739"
      },
      "execution_count": 31,
      "outputs": [
        {
          "output_type": "stream",
          "name": "stdout",
          "text": [
            "enter a string:peter piper picked a peck of pickled peppers.\n",
            "9\n",
            "9\n"
          ]
        }
      ]
    },
    {
      "cell_type": "code",
      "source": [
        "#Write a Python Program, to print all the indexes of all occurences of letter 'p' appeared in the string:-\n",
        "    \n",
        "#Input:- 'peter piper picked a peck of pickled peppers.'\n",
        "#Output:- \n",
        "# 0\n",
        "# 6\n",
        "# 8\n",
        "# 12\n",
        "# 21\n",
        "# 29\n",
        "# 37\n",
        "# 39\n",
        "# 40\n",
        "mystr01 = input('enter a string:')\n",
        "for i in range(len(mystr01)):\n",
        "    if mystr01[i] == 'p':\n",
        "        print(i)"
      ],
      "metadata": {
        "colab": {
          "base_uri": "https://localhost:8080/"
        },
        "id": "GUMJwwiq51aZ",
        "outputId": "26abd8ca-8611-4827-f841-719ee70d094e"
      },
      "execution_count": 32,
      "outputs": [
        {
          "output_type": "stream",
          "name": "stdout",
          "text": [
            "enter a string:peter piper picked a peck of pickled peppers.\n",
            "0\n",
            "6\n",
            "8\n",
            "12\n",
            "21\n",
            "29\n",
            "37\n",
            "39\n",
            "40\n"
          ]
        }
      ]
    },
    {
      "cell_type": "code",
      "source": [
        "#Write a python program to find below output:-\n",
        "\n",
        "#Input:- 'peter piper picked a peck of pickled peppers.'\n",
        "#Output:- ['peter', 'piper', 'picked', 'a', 'peck', 'of', 'pickled', 'peppers.']\n",
        "mystr02 = 'peter piper picked a peck of pickled peppers.'\n",
        "\n",
        "for i in range(len(mystr02)):\n",
        "    lst02 = mystr02.split(' ')\n",
        "print(lst02)\n"
      ],
      "metadata": {
        "colab": {
          "base_uri": "https://localhost:8080/"
        },
        "id": "JMgaaV3J51dR",
        "outputId": "dd462a83-7f9e-476d-c9b9-2997f6a24363"
      },
      "execution_count": 34,
      "outputs": [
        {
          "output_type": "stream",
          "name": "stdout",
          "text": [
            "['peter', 'piper', 'picked', 'a', 'peck', 'of', 'pickled', 'peppers.']\n"
          ]
        }
      ]
    },
    {
      "cell_type": "code",
      "source": [
        "#Write a python program to find below output:-\n",
        "\n",
        "#Input:- 'peter piper picked a peck of pickled peppers.'\n",
        "#Output:- 'peppers. pickled of peck a picked piper peter'\n",
        "mystr02 = 'peter piper picked a peck of pickled peppers.'\n",
        "lst03 = []\n",
        "for i in range(len(mystr02)):\n",
        "     lst02 = mystr02.split(' ')\n",
        "for i in range(len(lst02)):\n",
        "     lst03.append(lst02.pop())\n",
        "print(' '.join(lst03))\n",
        "\n"
      ],
      "metadata": {
        "colab": {
          "base_uri": "https://localhost:8080/"
        },
        "id": "eDVDGTN-6Ahw",
        "outputId": "fee4d321-fac9-49f1-80f2-1c3f80c8663d"
      },
      "execution_count": 35,
      "outputs": [
        {
          "output_type": "stream",
          "name": "stdout",
          "text": [
            "peppers. pickled of peck a picked piper peter\n"
          ]
        }
      ]
    },
    {
      "cell_type": "code",
      "source": [
        "#Write a python program to find below output:-\n",
        "\n",
        "#Input:- 'peter piper picked a peck of pickled peppers.'\n",
        "#Output:- '.sreppep delkcip fo kcep a dekcip repip retep'\n",
        "myout= ''\n",
        "mystr = 'peter piper picked a peck of pickled peppers.'\n",
        "for i in range(len(mystr), 0,-1):\n",
        "    myout += mystr[i-1]\n",
        "print(myout)\n"
      ],
      "metadata": {
        "colab": {
          "base_uri": "https://localhost:8080/"
        },
        "id": "SguVFqJk6Akt",
        "outputId": "df8cc7e2-112a-4841-bd96-e911661d0ff2"
      },
      "execution_count": 36,
      "outputs": [
        {
          "output_type": "stream",
          "name": "stdout",
          "text": [
            ".sreppep delkcip fo kcep a dekcip repip retep\n"
          ]
        }
      ]
    },
    {
      "cell_type": "code",
      "source": [
        "#Write a python program to find below output:-\n",
        "\n",
        "#Input:- 'peter piper picked a peck of pickled peppers.'\n",
        "#Output:- 'retep repip dekcip a kcep fo delkcip .sreppep'\n",
        "\n",
        "inp_l=[]\n",
        "inp = 'peter piper picked a peck of pickled peppers'\n",
        "for i in inp:\n",
        "    inp_l = inp.split(' ')\n",
        "    \n",
        "for j in range(len(inp_l)):\n",
        "     print(inp_l[j][::-1], end =' ') "
      ],
      "metadata": {
        "colab": {
          "base_uri": "https://localhost:8080/"
        },
        "id": "eYh-dzz76P1c",
        "outputId": "bff29c1c-28d8-4e24-ad0b-2c0b3ff8f62c"
      },
      "execution_count": 37,
      "outputs": [
        {
          "output_type": "stream",
          "name": "stdout",
          "text": [
            "retep repip dekcip a kcep fo delkcip sreppep "
          ]
        }
      ]
    },
    {
      "cell_type": "code",
      "source": [
        "#Write a python program to find below output:-\n",
        "\n",
        "#Input:- 'peter piper picked a peck of pickled peppers.'\n",
        "#Output:- 'Peter Piper Picked A Peck Of Pickled Peppers.'\n",
        "\n",
        "myin = 'peter piper picked a peck of pickled peppers.'\n",
        "myou = ''\n",
        "for i in range(len(myin)-1):\n",
        "        if i == 0:\n",
        "            myou +=myin[0].upper()\n",
        "        elif myin[i] == ' ':\n",
        "            myou +=myin[i]+myin[i+1].upper()\n",
        "        elif myin[i-1] != ' ':\n",
        "            myou += myin[i].lower()    \n",
        "print(myou)  "
      ],
      "metadata": {
        "colab": {
          "base_uri": "https://localhost:8080/"
        },
        "id": "y9hKZF3N6P4i",
        "outputId": "9d424117-4d26-44f5-957b-0ab7e49d8c75"
      },
      "execution_count": 38,
      "outputs": [
        {
          "output_type": "stream",
          "name": "stdout",
          "text": [
            "Peter Piper Picked A Peck Of Pickled Peppers\n"
          ]
        }
      ]
    },
    {
      "cell_type": "code",
      "source": [
        "#Write a python program to find below output:-\n",
        "\n",
        "#Input:- 'Peter Piper Picked A Peck Of Pickled Peppers.'\n",
        "#Output:- 'Peter piper picked a peck of pickled peppers.'\n",
        "\n",
        "myin = 'Peter Piper Picked A Peck Of Pickled Peppers.'\n",
        "myou = ''\n",
        "for i in range(len(myin)):\n",
        "    if i == 0:\n",
        "        myou = myou+myin[0].upper()\n",
        "    else:\n",
        "        myou += myin[i].lower()\n",
        "print(myou)      "
      ],
      "metadata": {
        "colab": {
          "base_uri": "https://localhost:8080/"
        },
        "id": "56XnCzFQ6QLf",
        "outputId": "336eb42f-41eb-498f-c622-304eb4d76c1a"
      },
      "execution_count": 39,
      "outputs": [
        {
          "output_type": "stream",
          "name": "stdout",
          "text": [
            "Peter piper picked a peck of pickled peppers.\n"
          ]
        }
      ]
    },
    {
      "cell_type": "code",
      "source": [
        "#Write a python program to implement index method. If sub_str is found in my_str then it will print the index\n",
        "# of first occurrence of first character of matching string in my_str:-\n",
        "\n",
        "#Input:- my_str = 'Peter Piper Picked A Peck Of Pickled Peppers.', sub_str = 'Pickl'\n",
        "#Output:- 29\n",
        "myin = 'Peter Piper Picked A Peck Of Pickled Peppers.'\n",
        "sub_str = 'Pickl'\n",
        "for i in range(len(myin)):\n",
        "    if myin[i] == sub_str[0]:\n",
        "        match = myin[i:i+len(sub_str)]\n",
        "        if match == sub_str:\n",
        "            print(i)\n"
      ],
      "metadata": {
        "colab": {
          "base_uri": "https://localhost:8080/"
        },
        "id": "Ng9mlolB6dME",
        "outputId": "41fd0eff-d612-4865-d4d5-e98a5a1dfefd"
      },
      "execution_count": 40,
      "outputs": [
        {
          "output_type": "stream",
          "name": "stdout",
          "text": [
            "29\n"
          ]
        }
      ]
    },
    {
      "cell_type": "code",
      "source": [
        "#Write a python program to implement replace method. If sub_str is found in my_str then it will replace the first \n",
        "#occurrence of sub_str with new_str else it will will print sub_str not found:-\n",
        "\n",
        "#Input:- my_str = 'Peter Piper Picked A Peck Of Pickled Peppers.', sub_str = 'Peck', new_str = 'Pack'\n",
        "#Output:- 'Peter Piper Picked A Pack Of Pickled Peppers.'\n",
        "inp = 'Peter Piper Picked A Peck Of Pickled Peppers.'\n",
        "sub_str = 'Peck'\n",
        "new_str = 'Pack'\n",
        "out = ''\n",
        "n = inp.find(sub_str)\n",
        "if n != -1:\n",
        "    for i in range(len(inp)):\n",
        "        if i  not in [x for x in range(n, n+len(sub_str))]:\n",
        "            out += inp[i]\n",
        "        elif i == n:\n",
        "            out += new_str\n",
        "    print(out)\n",
        "else:\n",
        "    print('sub_str not found')"
      ],
      "metadata": {
        "colab": {
          "base_uri": "https://localhost:8080/"
        },
        "id": "edP47Z1U6dPC",
        "outputId": "4839cc74-1c89-42e8-e860-16ab6b423e23"
      },
      "execution_count": 41,
      "outputs": [
        {
          "output_type": "stream",
          "name": "stdout",
          "text": [
            "Peter Piper Picked A Pack Of Pickled Peppers.\n"
          ]
        }
      ]
    },
    {
      "cell_type": "code",
      "source": [
        "#Write a python program to find below output (implements rjust and ljust):-\n",
        "\n",
        "#Input:- 'Peter Piper Picked A Peck Of Pickled Peppers.', sub_str = 'Peck', \n",
        "#Output:- '*********************Peck********************'\n",
        "\n",
        "my_str = 'Peter Piper Picked A Peck Of Pickled Peppers.'\n",
        "su = 'Peck'\n",
        "my = ''\n",
        "for i in range(len(my_str)):\n",
        "    if i == my_str.index(su):\n",
        "        my += su   \n",
        "    else:\n",
        "        my += '*'\n",
        "print(my) \n"
      ],
      "metadata": {
        "colab": {
          "base_uri": "https://localhost:8080/"
        },
        "id": "fKQnrp2m6nak",
        "outputId": "af0ab80e-2f50-4345-fe1e-57ddd5b00d0b"
      },
      "execution_count": 42,
      "outputs": [
        {
          "output_type": "stream",
          "name": "stdout",
          "text": [
            "*********************Peck***********************\n"
          ]
        }
      ]
    },
    {
      "cell_type": "code",
      "source": [],
      "metadata": {
        "id": "ryjJUVafHWhJ"
      },
      "execution_count": null,
      "outputs": []
    }
  ]
}